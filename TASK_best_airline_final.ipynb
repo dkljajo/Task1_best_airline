{
 "cells": [
  {
   "cell_type": "markdown",
   "metadata": {},
   "source": [
    "##  TASK  : In this file you will receive the following:\n",
    "\n",
    "### Marketing operational data from the Bureau of Transportation Statistics containing the dates, airlines, origin cities, destination cities, departure times, delay times (early departures are negative, and converted to 0 delay in the new column), causes for delay and, if applicable, the cancellation data (binary 1/0 column, where 1 == Cancelled) as well as the cancellation code. \n",
    "# Accompanying you will find a lookup csv files contain the airline code as well as the explanation of the meaning of the cancellation code.\n",
    "\n",
    "## Your task is the following:\n",
    "### Recommend the best airline (i.e. American Airlines or Delta) based on the flight delay/flight cancellation data. \n",
    "### Please use Python to accomplish this task. If you are not familiar with Python, you can use R"
   ]
  },
  {
   "cell_type": "code",
   "execution_count": 1,
   "metadata": {},
   "outputs": [],
   "source": [
    "import pandas as pd\n",
    "import numpy as np\n",
    "import matplotlib.pyplot as plt\n",
    "%matplotlib inline\n",
    "import seaborn as sns\n",
    "pd.set_option('display.max_columns', None)\n",
    "import datetime, warnings, scipy\n",
    "warnings.filterwarnings(\"ignore\")"
   ]
  },
  {
   "cell_type": "code",
   "execution_count": 2,
   "metadata": {},
   "outputs": [
    {
     "name": "stderr",
     "output_type": "stream",
     "text": [
      "b'Skipping line 4: expected 2 fields, saw 3\\nSkipping line 7: expected 2 fields, saw 3\\nSkipping line 8: expected 2 fields, saw 3\\nSkipping line 11: expected 2 fields, saw 3\\nSkipping line 12: expected 2 fields, saw 3\\nSkipping line 17: expected 2 fields, saw 3\\nSkipping line 18: expected 2 fields, saw 3\\nSkipping line 19: expected 2 fields, saw 3\\nSkipping line 24: expected 2 fields, saw 3\\nSkipping line 25: expected 2 fields, saw 3\\nSkipping line 40: expected 2 fields, saw 3\\nSkipping line 41: expected 2 fields, saw 3\\nSkipping line 42: expected 2 fields, saw 3\\nSkipping line 44: expected 2 fields, saw 3\\nSkipping line 62: expected 2 fields, saw 3\\nSkipping line 73: expected 2 fields, saw 3\\nSkipping line 79: expected 2 fields, saw 3\\nSkipping line 91: expected 2 fields, saw 3\\nSkipping line 100: expected 2 fields, saw 3\\nSkipping line 101: expected 2 fields, saw 3\\nSkipping line 102: expected 2 fields, saw 3\\nSkipping line 105: expected 2 fields, saw 4\\nSkipping line 107: expected 2 fields, saw 3\\nSkipping line 108: expected 2 fields, saw 3\\nSkipping line 109: expected 2 fields, saw 3\\nSkipping line 111: expected 2 fields, saw 3\\nSkipping line 112: expected 2 fields, saw 3\\nSkipping line 113: expected 2 fields, saw 3\\nSkipping line 114: expected 2 fields, saw 3\\nSkipping line 115: expected 2 fields, saw 3\\nSkipping line 116: expected 2 fields, saw 3\\nSkipping line 117: expected 2 fields, saw 3\\nSkipping line 119: expected 2 fields, saw 3\\nSkipping line 148: expected 2 fields, saw 3\\nSkipping line 173: expected 2 fields, saw 3\\nSkipping line 188: expected 2 fields, saw 3\\nSkipping line 210: expected 2 fields, saw 3\\nSkipping line 211: expected 2 fields, saw 3\\nSkipping line 213: expected 2 fields, saw 3\\nSkipping line 318: expected 2 fields, saw 3\\nSkipping line 483: expected 2 fields, saw 3\\nSkipping line 486: expected 2 fields, saw 3\\nSkipping line 549: expected 2 fields, saw 3\\nSkipping line 643: expected 2 fields, saw 3\\nSkipping line 651: expected 2 fields, saw 3\\nSkipping line 692: expected 2 fields, saw 3\\nSkipping line 793: expected 2 fields, saw 3\\nSkipping line 798: expected 2 fields, saw 3\\nSkipping line 829: expected 2 fields, saw 3\\nSkipping line 910: expected 2 fields, saw 3\\nSkipping line 976: expected 2 fields, saw 3\\nSkipping line 977: expected 2 fields, saw 3\\nSkipping line 979: expected 2 fields, saw 3\\nSkipping line 981: expected 2 fields, saw 3\\nSkipping line 984: expected 2 fields, saw 3\\nSkipping line 986: expected 2 fields, saw 3\\nSkipping line 1114: expected 2 fields, saw 3\\nSkipping line 1146: expected 2 fields, saw 3\\nSkipping line 1163: expected 2 fields, saw 3\\nSkipping line 1207: expected 2 fields, saw 3\\nSkipping line 1301: expected 2 fields, saw 3\\nSkipping line 1329: expected 2 fields, saw 3\\nSkipping line 1372: expected 2 fields, saw 3\\nSkipping line 1374: expected 2 fields, saw 3\\nSkipping line 1392: expected 2 fields, saw 3\\nSkipping line 1461: expected 2 fields, saw 3\\nSkipping line 1469: expected 2 fields, saw 3\\nSkipping line 1496: expected 2 fields, saw 3\\nSkipping line 1586: expected 2 fields, saw 3\\nSkipping line 1590: expected 2 fields, saw 3\\nSkipping line 1728: expected 2 fields, saw 3\\nSkipping line 1767: expected 2 fields, saw 3\\nSkipping line 1804: expected 2 fields, saw 3\\nSkipping line 1833: expected 2 fields, saw 4\\nSkipping line 1916: expected 2 fields, saw 3\\nSkipping line 1922: expected 2 fields, saw 3\\nSkipping line 1925: expected 2 fields, saw 3\\nSkipping line 1926: expected 2 fields, saw 3\\nSkipping line 1928: expected 2 fields, saw 3\\nSkipping line 1945: expected 2 fields, saw 3\\n'\n",
      "b'Skipping line 4: expected 2 fields, saw 3\\nSkipping line 7: expected 2 fields, saw 3\\nSkipping line 10: expected 2 fields, saw 3\\nSkipping line 11: expected 2 fields, saw 3\\nSkipping line 15: expected 2 fields, saw 3\\nSkipping line 20: expected 2 fields, saw 3\\nSkipping line 21: expected 2 fields, saw 3\\nSkipping line 32: expected 2 fields, saw 3\\nSkipping line 34: expected 2 fields, saw 3\\nSkipping line 50: expected 2 fields, saw 3\\nSkipping line 58: expected 2 fields, saw 3\\nSkipping line 64: expected 2 fields, saw 3\\nSkipping line 76: expected 2 fields, saw 3\\nSkipping line 84: expected 2 fields, saw 3\\nSkipping line 85: expected 2 fields, saw 3\\nSkipping line 86: expected 2 fields, saw 3\\nSkipping line 89: expected 2 fields, saw 4\\nSkipping line 91: expected 2 fields, saw 3\\nSkipping line 92: expected 2 fields, saw 3\\nSkipping line 93: expected 2 fields, saw 3\\nSkipping line 94: expected 2 fields, saw 3\\nSkipping line 95: expected 2 fields, saw 3\\nSkipping line 96: expected 2 fields, saw 3\\nSkipping line 97: expected 2 fields, saw 3\\nSkipping line 98: expected 2 fields, saw 3\\nSkipping line 99: expected 2 fields, saw 3\\nSkipping line 100: expected 2 fields, saw 3\\nSkipping line 101: expected 2 fields, saw 3\\nSkipping line 125: expected 2 fields, saw 3\\nSkipping line 147: expected 2 fields, saw 3\\nSkipping line 158: expected 2 fields, saw 3\\nSkipping line 176: expected 2 fields, saw 3\\nSkipping line 177: expected 2 fields, saw 3\\nSkipping line 179: expected 2 fields, saw 3\\nSkipping line 276: expected 2 fields, saw 3\\nSkipping line 417: expected 2 fields, saw 3\\nSkipping line 418: expected 2 fields, saw 3\\nSkipping line 557: expected 2 fields, saw 3\\nSkipping line 565: expected 2 fields, saw 3\\nSkipping line 603: expected 2 fields, saw 3\\nSkipping line 689: expected 2 fields, saw 3\\nSkipping line 694: expected 2 fields, saw 3\\nSkipping line 720: expected 2 fields, saw 3\\nSkipping line 789: expected 2 fields, saw 3\\nSkipping line 848: expected 2 fields, saw 3\\nSkipping line 850: expected 2 fields, saw 3\\nSkipping line 854: expected 2 fields, saw 3\\nSkipping line 969: expected 2 fields, saw 3\\nSkipping line 1009: expected 2 fields, saw 3\\nSkipping line 1050: expected 2 fields, saw 3\\nSkipping line 1132: expected 2 fields, saw 3\\nSkipping line 1158: expected 2 fields, saw 3\\nSkipping line 1198: expected 2 fields, saw 3\\nSkipping line 1200: expected 2 fields, saw 3\\nSkipping line 1214: expected 2 fields, saw 3\\nSkipping line 1274: expected 2 fields, saw 3\\nSkipping line 1278: expected 2 fields, saw 3\\nSkipping line 1303: expected 2 fields, saw 3\\nSkipping line 1383: expected 2 fields, saw 3\\nSkipping line 1386: expected 2 fields, saw 3\\nSkipping line 1502: expected 2 fields, saw 3\\nSkipping line 1537: expected 2 fields, saw 3\\nSkipping line 1569: expected 2 fields, saw 3\\nSkipping line 1591: expected 2 fields, saw 4\\nSkipping line 1657: expected 2 fields, saw 3\\nSkipping line 1660: expected 2 fields, saw 3\\nSkipping line 1661: expected 2 fields, saw 3\\nSkipping line 1663: expected 2 fields, saw 3\\nSkipping line 1679: expected 2 fields, saw 3\\n'\n"
     ]
    }
   ],
   "source": [
    "import csv\n",
    "flights_delay = pd.read_csv(\"D://Flights/flights_delay.csv\", sep=';')\n",
    "marketing_carrier_code = pd.read_csv(\"D://Flights/marketing_carrier_code.csv\",delimiter =',',quotechar =',' , sep = ',', quoting=csv.QUOTE_MINIMAL,\n",
    "                    doublequote=False, skipinitialspace=True, error_bad_lines=False)\n",
    "operating_carrier_code =  pd.read_csv(\"D://Flights/operating_carrier_code.csv\",delimiter =',',quotechar =',' , sep = ',', quoting=csv.QUOTE_NONE,\n",
    "                    doublequote=False, skipinitialspace=True, error_bad_lines=False)\n",
    "cancellation_code = pd.read_csv(\"D://Flights/cancellation_code.csv\",delimiter =',',quotechar =',' , sep = ',', quoting=csv.QUOTE_MINIMAL,\n",
    "                    doublequote=False, skipinitialspace=True, error_bad_lines=False)"
   ]
  },
  {
   "cell_type": "markdown",
   "metadata": {},
   "source": [
    "## 1. Data cleaning"
   ]
  },
  {
   "cell_type": "code",
   "execution_count": 3,
   "metadata": {},
   "outputs": [],
   "source": [
    "df=flights_delay"
   ]
  },
  {
   "cell_type": "code",
   "execution_count": 4,
   "metadata": {},
   "outputs": [
    {
     "data": {
      "text/html": [
       "<div>\n",
       "<style scoped>\n",
       "    .dataframe tbody tr th:only-of-type {\n",
       "        vertical-align: middle;\n",
       "    }\n",
       "\n",
       "    .dataframe tbody tr th {\n",
       "        vertical-align: top;\n",
       "    }\n",
       "\n",
       "    .dataframe thead th {\n",
       "        text-align: right;\n",
       "    }\n",
       "</style>\n",
       "<table border=\"1\" class=\"dataframe\">\n",
       "  <thead>\n",
       "    <tr style=\"text-align: right;\">\n",
       "      <th></th>\n",
       "      <th>FL_DATE</th>\n",
       "      <th>MKT_CARRIER</th>\n",
       "      <th>OP_UNIQUE_CARRIER</th>\n",
       "      <th>ORIGIN_CITY_NAME</th>\n",
       "      <th>DEST_CITY_NAME</th>\n",
       "      <th>DEP_TIME</th>\n",
       "      <th>DEP_DELAY</th>\n",
       "      <th>CANCELLED</th>\n",
       "      <th>CANCELLATION_CODE</th>\n",
       "      <th>CARRIER_DELAY</th>\n",
       "      <th>WEATHER_DELAY</th>\n",
       "      <th>NAS_DELAY</th>\n",
       "      <th>SECURITY_DELAY</th>\n",
       "      <th>LATE_AIRCRAFT_DELAY</th>\n",
       "    </tr>\n",
       "  </thead>\n",
       "  <tbody>\n",
       "    <tr>\n",
       "      <th>0</th>\n",
       "      <td>1.12.2020</td>\n",
       "      <td>AA</td>\n",
       "      <td>OH</td>\n",
       "      <td>Norfolk, VA</td>\n",
       "      <td>Charlotte, NC</td>\n",
       "      <td>1210.0</td>\n",
       "      <td>-9.0</td>\n",
       "      <td>0.0</td>\n",
       "      <td>NaN</td>\n",
       "      <td>NaN</td>\n",
       "      <td>NaN</td>\n",
       "      <td>NaN</td>\n",
       "      <td>NaN</td>\n",
       "      <td>NaN</td>\n",
       "    </tr>\n",
       "    <tr>\n",
       "      <th>1</th>\n",
       "      <td>1.12.2020</td>\n",
       "      <td>AA</td>\n",
       "      <td>OH</td>\n",
       "      <td>Peoria, IL</td>\n",
       "      <td>Charlotte, NC</td>\n",
       "      <td>655.0</td>\n",
       "      <td>-5.0</td>\n",
       "      <td>0.0</td>\n",
       "      <td>NaN</td>\n",
       "      <td>NaN</td>\n",
       "      <td>NaN</td>\n",
       "      <td>NaN</td>\n",
       "      <td>NaN</td>\n",
       "      <td>NaN</td>\n",
       "    </tr>\n",
       "    <tr>\n",
       "      <th>2</th>\n",
       "      <td>1.12.2020</td>\n",
       "      <td>AA</td>\n",
       "      <td>OH</td>\n",
       "      <td>Charleston/Dunbar, WV</td>\n",
       "      <td>Charlotte, NC</td>\n",
       "      <td>826.0</td>\n",
       "      <td>96.0</td>\n",
       "      <td>0.0</td>\n",
       "      <td>NaN</td>\n",
       "      <td>0.0</td>\n",
       "      <td>96.0</td>\n",
       "      <td>53.0</td>\n",
       "      <td>0.0</td>\n",
       "      <td>0.0</td>\n",
       "    </tr>\n",
       "    <tr>\n",
       "      <th>3</th>\n",
       "      <td>1.12.2020</td>\n",
       "      <td>AA</td>\n",
       "      <td>OH</td>\n",
       "      <td>Cincinnati, OH</td>\n",
       "      <td>Charlotte, NC</td>\n",
       "      <td>1158.0</td>\n",
       "      <td>-4.0</td>\n",
       "      <td>0.0</td>\n",
       "      <td>NaN</td>\n",
       "      <td>NaN</td>\n",
       "      <td>NaN</td>\n",
       "      <td>NaN</td>\n",
       "      <td>NaN</td>\n",
       "      <td>NaN</td>\n",
       "    </tr>\n",
       "    <tr>\n",
       "      <th>4</th>\n",
       "      <td>1.12.2020</td>\n",
       "      <td>AA</td>\n",
       "      <td>OH</td>\n",
       "      <td>Charlotte, NC</td>\n",
       "      <td>Cincinnati, OH</td>\n",
       "      <td>1453.0</td>\n",
       "      <td>-7.0</td>\n",
       "      <td>0.0</td>\n",
       "      <td>NaN</td>\n",
       "      <td>NaN</td>\n",
       "      <td>NaN</td>\n",
       "      <td>NaN</td>\n",
       "      <td>NaN</td>\n",
       "      <td>NaN</td>\n",
       "    </tr>\n",
       "    <tr>\n",
       "      <th>5</th>\n",
       "      <td>1.12.2020</td>\n",
       "      <td>AA</td>\n",
       "      <td>OH</td>\n",
       "      <td>Cincinnati, OH</td>\n",
       "      <td>Charlotte, NC</td>\n",
       "      <td>1719.0</td>\n",
       "      <td>-11.0</td>\n",
       "      <td>0.0</td>\n",
       "      <td>NaN</td>\n",
       "      <td>NaN</td>\n",
       "      <td>NaN</td>\n",
       "      <td>NaN</td>\n",
       "      <td>NaN</td>\n",
       "      <td>NaN</td>\n",
       "    </tr>\n",
       "    <tr>\n",
       "      <th>6</th>\n",
       "      <td>1.12.2020</td>\n",
       "      <td>AA</td>\n",
       "      <td>OH</td>\n",
       "      <td>Charlotte, NC</td>\n",
       "      <td>Knoxville, TN</td>\n",
       "      <td>1813.0</td>\n",
       "      <td>3.0</td>\n",
       "      <td>0.0</td>\n",
       "      <td>NaN</td>\n",
       "      <td>NaN</td>\n",
       "      <td>NaN</td>\n",
       "      <td>NaN</td>\n",
       "      <td>NaN</td>\n",
       "      <td>NaN</td>\n",
       "    </tr>\n",
       "    <tr>\n",
       "      <th>7</th>\n",
       "      <td>1.12.2020</td>\n",
       "      <td>AA</td>\n",
       "      <td>OH</td>\n",
       "      <td>Charlotte, NC</td>\n",
       "      <td>Cincinnati, OH</td>\n",
       "      <td>1317.0</td>\n",
       "      <td>-7.0</td>\n",
       "      <td>0.0</td>\n",
       "      <td>NaN</td>\n",
       "      <td>NaN</td>\n",
       "      <td>NaN</td>\n",
       "      <td>NaN</td>\n",
       "      <td>NaN</td>\n",
       "      <td>NaN</td>\n",
       "    </tr>\n",
       "    <tr>\n",
       "      <th>8</th>\n",
       "      <td>1.12.2020</td>\n",
       "      <td>AA</td>\n",
       "      <td>OH</td>\n",
       "      <td>Cincinnati, OH</td>\n",
       "      <td>Charlotte, NC</td>\n",
       "      <td>1525.0</td>\n",
       "      <td>-4.0</td>\n",
       "      <td>0.0</td>\n",
       "      <td>NaN</td>\n",
       "      <td>NaN</td>\n",
       "      <td>NaN</td>\n",
       "      <td>NaN</td>\n",
       "      <td>NaN</td>\n",
       "      <td>NaN</td>\n",
       "    </tr>\n",
       "    <tr>\n",
       "      <th>9</th>\n",
       "      <td>1.12.2020</td>\n",
       "      <td>AA</td>\n",
       "      <td>OH</td>\n",
       "      <td>Charlotte, NC</td>\n",
       "      <td>Rochester, NY</td>\n",
       "      <td>2014.0</td>\n",
       "      <td>-1.0</td>\n",
       "      <td>0.0</td>\n",
       "      <td>NaN</td>\n",
       "      <td>NaN</td>\n",
       "      <td>NaN</td>\n",
       "      <td>NaN</td>\n",
       "      <td>NaN</td>\n",
       "      <td>NaN</td>\n",
       "    </tr>\n",
       "  </tbody>\n",
       "</table>\n",
       "</div>"
      ],
      "text/plain": [
       "     FL_DATE MKT_CARRIER OP_UNIQUE_CARRIER       ORIGIN_CITY_NAME  \\\n",
       "0  1.12.2020          AA                OH            Norfolk, VA   \n",
       "1  1.12.2020          AA                OH             Peoria, IL   \n",
       "2  1.12.2020          AA                OH  Charleston/Dunbar, WV   \n",
       "3  1.12.2020          AA                OH         Cincinnati, OH   \n",
       "4  1.12.2020          AA                OH          Charlotte, NC   \n",
       "5  1.12.2020          AA                OH         Cincinnati, OH   \n",
       "6  1.12.2020          AA                OH          Charlotte, NC   \n",
       "7  1.12.2020          AA                OH          Charlotte, NC   \n",
       "8  1.12.2020          AA                OH         Cincinnati, OH   \n",
       "9  1.12.2020          AA                OH          Charlotte, NC   \n",
       "\n",
       "   DEST_CITY_NAME  DEP_TIME  DEP_DELAY  CANCELLED CANCELLATION_CODE  \\\n",
       "0   Charlotte, NC    1210.0       -9.0        0.0               NaN   \n",
       "1   Charlotte, NC     655.0       -5.0        0.0               NaN   \n",
       "2   Charlotte, NC     826.0       96.0        0.0               NaN   \n",
       "3   Charlotte, NC    1158.0       -4.0        0.0               NaN   \n",
       "4  Cincinnati, OH    1453.0       -7.0        0.0               NaN   \n",
       "5   Charlotte, NC    1719.0      -11.0        0.0               NaN   \n",
       "6   Knoxville, TN    1813.0        3.0        0.0               NaN   \n",
       "7  Cincinnati, OH    1317.0       -7.0        0.0               NaN   \n",
       "8   Charlotte, NC    1525.0       -4.0        0.0               NaN   \n",
       "9   Rochester, NY    2014.0       -1.0        0.0               NaN   \n",
       "\n",
       "   CARRIER_DELAY  WEATHER_DELAY  NAS_DELAY  SECURITY_DELAY  \\\n",
       "0            NaN            NaN        NaN             NaN   \n",
       "1            NaN            NaN        NaN             NaN   \n",
       "2            0.0           96.0       53.0             0.0   \n",
       "3            NaN            NaN        NaN             NaN   \n",
       "4            NaN            NaN        NaN             NaN   \n",
       "5            NaN            NaN        NaN             NaN   \n",
       "6            NaN            NaN        NaN             NaN   \n",
       "7            NaN            NaN        NaN             NaN   \n",
       "8            NaN            NaN        NaN             NaN   \n",
       "9            NaN            NaN        NaN             NaN   \n",
       "\n",
       "   LATE_AIRCRAFT_DELAY  \n",
       "0                  NaN  \n",
       "1                  NaN  \n",
       "2                  0.0  \n",
       "3                  NaN  \n",
       "4                  NaN  \n",
       "5                  NaN  \n",
       "6                  NaN  \n",
       "7                  NaN  \n",
       "8                  NaN  \n",
       "9                  NaN  "
      ]
     },
     "execution_count": 4,
     "metadata": {},
     "output_type": "execute_result"
    }
   ],
   "source": [
    "df.head(10)\n"
   ]
  },
  {
   "cell_type": "markdown",
   "metadata": {},
   "source": [
    "The first column that I will concentrate on is the OP_CARRIER which refers to the airline identifier. I will change this to the airlines extended names\n",
    "\n",
    "The source that I used to find out the extended names was wikipedia"
   ]
  },
  {
   "cell_type": "code",
   "execution_count": 5,
   "metadata": {},
   "outputs": [
    {
     "data": {
      "text/plain": [
       "array(['AA', 'DL', 'AS', 'UA', 'F9', 'HA', 'NK', 'B6', 'WN', 'G4'],\n",
       "      dtype=object)"
      ]
     },
     "execution_count": 5,
     "metadata": {},
     "output_type": "execute_result"
    }
   ],
   "source": [
    "df.MKT_CARRIER.unique()"
   ]
  },
  {
   "cell_type": "code",
   "execution_count": 6,
   "metadata": {},
   "outputs": [],
   "source": [
    "df['MKT_CARRIER'].replace({\n",
    "    'UA':'United Airlines',\n",
    "    'AS':'Alaska Airlines',\n",
    "    '9E':'Endeavor Air',\n",
    "    'B6':'JetBlue Airways',\n",
    "    'EV':'ExpressJet',\n",
    "    'F9':'Frontier Airlines',\n",
    "    'G4':'Allegiant Air',\n",
    "    'HA':'Hawaiian Airlines',\n",
    "    'MQ':'Envoy Air',\n",
    "    'NK':'Spirit Airlines',\n",
    "    'OH':'PSA Airlines',\n",
    "    'OO':'SkyWest Airlines',\n",
    "    'VX':'Virgin America',\n",
    "    'WN':'Southwest Airlines',\n",
    "    'YV':'Mesa Airline',\n",
    "    'YX':'Republic Airways',\n",
    "    'AA':'American Airlines',\n",
    "    'DL':'Delta Airlines'\n",
    "}, inplace=True)"
   ]
  },
  {
   "cell_type": "code",
   "execution_count": 7,
   "metadata": {},
   "outputs": [
    {
     "data": {
      "text/plain": [
       "10"
      ]
     },
     "execution_count": 7,
     "metadata": {},
     "output_type": "execute_result"
    }
   ],
   "source": [
    "df.MKT_CARRIER.nunique()"
   ]
  },
  {
   "cell_type": "code",
   "execution_count": 8,
   "metadata": {},
   "outputs": [
    {
     "data": {
      "text/plain": [
       "American Airlines     198616\n",
       "Delta Airlines        191808\n",
       "United Airlines       140050\n",
       "Southwest Airlines    126443\n",
       "Alaska Airlines        49324\n",
       "Spirit Airlines        24334\n",
       "JetBlue Airways        20165\n",
       "Frontier Airlines      13833\n",
       "Allegiant Air          13480\n",
       "Hawaiian Airlines       6800\n",
       "Name: MKT_CARRIER, dtype: int64"
      ]
     },
     "execution_count": 8,
     "metadata": {},
     "output_type": "execute_result"
    }
   ],
   "source": [
    "df.MKT_CARRIER.value_counts()"
   ]
  },
  {
   "cell_type": "markdown",
   "metadata": {},
   "source": [
    "## CANCELLED"
   ]
  },
  {
   "cell_type": "markdown",
   "metadata": {},
   "source": [
    "According to the definition that I gave of a Delayed Flight, a canceled flight is not a delayed flight as it \n",
    "never left nor arrived to its destination for whatever reason."
   ]
  },
  {
   "cell_type": "code",
   "execution_count": 9,
   "metadata": {},
   "outputs": [
    {
     "data": {
      "text/plain": [
       "2"
      ]
     },
     "execution_count": 9,
     "metadata": {},
     "output_type": "execute_result"
    }
   ],
   "source": [
    "df.CANCELLED.nunique()"
   ]
  },
  {
   "cell_type": "code",
   "execution_count": 10,
   "metadata": {},
   "outputs": [
    {
     "data": {
      "text/plain": [
       "0.0    775454\n",
       "1.0      9399\n",
       "Name: CANCELLED, dtype: int64"
      ]
     },
     "execution_count": 10,
     "metadata": {},
     "output_type": "execute_result"
    }
   ],
   "source": [
    "df.CANCELLED.value_counts()"
   ]
  },
  {
   "cell_type": "markdown",
   "metadata": {},
   "source": [
    "This is a binary column where number 1 equals a canceled flight, and a 0 not canceled, therefore we can drop the flights that were canceled, equivalent to 9399.\n",
    "\n",
    "What I will do to double check that what I'm going to drop is correct, is to create a dummy dataframe that will only have the CANCELLED values equal to 1, \n",
    "and therefore referring to canceled flights. If it works then I will drop those flights."
   ]
  },
  {
   "cell_type": "code",
   "execution_count": 11,
   "metadata": {},
   "outputs": [
    {
     "name": "stdout",
     "output_type": "stream",
     "text": [
      "dummy shape: (9399, 14)\n",
      "====================================\n",
      "dummy dataframe:\n"
     ]
    },
    {
     "data": {
      "text/html": [
       "<div>\n",
       "<style scoped>\n",
       "    .dataframe tbody tr th:only-of-type {\n",
       "        vertical-align: middle;\n",
       "    }\n",
       "\n",
       "    .dataframe tbody tr th {\n",
       "        vertical-align: top;\n",
       "    }\n",
       "\n",
       "    .dataframe thead th {\n",
       "        text-align: right;\n",
       "    }\n",
       "</style>\n",
       "<table border=\"1\" class=\"dataframe\">\n",
       "  <thead>\n",
       "    <tr style=\"text-align: right;\">\n",
       "      <th></th>\n",
       "      <th>FL_DATE</th>\n",
       "      <th>MKT_CARRIER</th>\n",
       "      <th>OP_UNIQUE_CARRIER</th>\n",
       "      <th>ORIGIN_CITY_NAME</th>\n",
       "      <th>DEST_CITY_NAME</th>\n",
       "      <th>DEP_TIME</th>\n",
       "      <th>DEP_DELAY</th>\n",
       "      <th>CANCELLED</th>\n",
       "      <th>CANCELLATION_CODE</th>\n",
       "      <th>CARRIER_DELAY</th>\n",
       "      <th>WEATHER_DELAY</th>\n",
       "      <th>NAS_DELAY</th>\n",
       "      <th>SECURITY_DELAY</th>\n",
       "      <th>LATE_AIRCRAFT_DELAY</th>\n",
       "    </tr>\n",
       "  </thead>\n",
       "  <tbody>\n",
       "    <tr>\n",
       "      <th>165</th>\n",
       "      <td>1.12.2020</td>\n",
       "      <td>American Airlines</td>\n",
       "      <td>OH</td>\n",
       "      <td>Providence, RI</td>\n",
       "      <td>Charlotte, NC</td>\n",
       "      <td>NaN</td>\n",
       "      <td>NaN</td>\n",
       "      <td>1.0</td>\n",
       "      <td>B</td>\n",
       "      <td>NaN</td>\n",
       "      <td>NaN</td>\n",
       "      <td>NaN</td>\n",
       "      <td>NaN</td>\n",
       "      <td>NaN</td>\n",
       "    </tr>\n",
       "    <tr>\n",
       "      <th>749</th>\n",
       "      <td>1.12.2020</td>\n",
       "      <td>United Airlines</td>\n",
       "      <td>OO</td>\n",
       "      <td>Denver, CO</td>\n",
       "      <td>Springfield, MO</td>\n",
       "      <td>NaN</td>\n",
       "      <td>NaN</td>\n",
       "      <td>1.0</td>\n",
       "      <td>C</td>\n",
       "      <td>NaN</td>\n",
       "      <td>NaN</td>\n",
       "      <td>NaN</td>\n",
       "      <td>NaN</td>\n",
       "      <td>NaN</td>\n",
       "    </tr>\n",
       "    <tr>\n",
       "      <th>763</th>\n",
       "      <td>1.12.2020</td>\n",
       "      <td>United Airlines</td>\n",
       "      <td>OO</td>\n",
       "      <td>Denver, CO</td>\n",
       "      <td>Boise, ID</td>\n",
       "      <td>NaN</td>\n",
       "      <td>NaN</td>\n",
       "      <td>1.0</td>\n",
       "      <td>C</td>\n",
       "      <td>NaN</td>\n",
       "      <td>NaN</td>\n",
       "      <td>NaN</td>\n",
       "      <td>NaN</td>\n",
       "      <td>NaN</td>\n",
       "    </tr>\n",
       "    <tr>\n",
       "      <th>784731</th>\n",
       "      <td>1.2.2021</td>\n",
       "      <td>Southwest Airlines</td>\n",
       "      <td>WN</td>\n",
       "      <td>Fort Lauderdale, FL</td>\n",
       "      <td>Islip, NY</td>\n",
       "      <td>NaN</td>\n",
       "      <td>NaN</td>\n",
       "      <td>1.0</td>\n",
       "      <td>B</td>\n",
       "      <td>NaN</td>\n",
       "      <td>NaN</td>\n",
       "      <td>NaN</td>\n",
       "      <td>NaN</td>\n",
       "      <td>NaN</td>\n",
       "    </tr>\n",
       "    <tr>\n",
       "      <th>784788</th>\n",
       "      <td>1.2.2021</td>\n",
       "      <td>Southwest Airlines</td>\n",
       "      <td>WN</td>\n",
       "      <td>Houston, TX</td>\n",
       "      <td>Baltimore, MD</td>\n",
       "      <td>NaN</td>\n",
       "      <td>NaN</td>\n",
       "      <td>1.0</td>\n",
       "      <td>B</td>\n",
       "      <td>NaN</td>\n",
       "      <td>NaN</td>\n",
       "      <td>NaN</td>\n",
       "      <td>NaN</td>\n",
       "      <td>NaN</td>\n",
       "    </tr>\n",
       "    <tr>\n",
       "      <th>784790</th>\n",
       "      <td>1.2.2021</td>\n",
       "      <td>Southwest Airlines</td>\n",
       "      <td>WN</td>\n",
       "      <td>Houston, TX</td>\n",
       "      <td>Baltimore, MD</td>\n",
       "      <td>NaN</td>\n",
       "      <td>NaN</td>\n",
       "      <td>1.0</td>\n",
       "      <td>B</td>\n",
       "      <td>NaN</td>\n",
       "      <td>NaN</td>\n",
       "      <td>NaN</td>\n",
       "      <td>NaN</td>\n",
       "      <td>NaN</td>\n",
       "    </tr>\n",
       "  </tbody>\n",
       "</table>\n",
       "</div>"
      ],
      "text/plain": [
       "          FL_DATE         MKT_CARRIER OP_UNIQUE_CARRIER     ORIGIN_CITY_NAME  \\\n",
       "165     1.12.2020   American Airlines                OH       Providence, RI   \n",
       "749     1.12.2020     United Airlines                OO           Denver, CO   \n",
       "763     1.12.2020     United Airlines                OO           Denver, CO   \n",
       "784731   1.2.2021  Southwest Airlines                WN  Fort Lauderdale, FL   \n",
       "784788   1.2.2021  Southwest Airlines                WN          Houston, TX   \n",
       "784790   1.2.2021  Southwest Airlines                WN          Houston, TX   \n",
       "\n",
       "         DEST_CITY_NAME  DEP_TIME  DEP_DELAY  CANCELLED CANCELLATION_CODE  \\\n",
       "165       Charlotte, NC       NaN        NaN        1.0                 B   \n",
       "749     Springfield, MO       NaN        NaN        1.0                 C   \n",
       "763           Boise, ID       NaN        NaN        1.0                 C   \n",
       "784731        Islip, NY       NaN        NaN        1.0                 B   \n",
       "784788    Baltimore, MD       NaN        NaN        1.0                 B   \n",
       "784790    Baltimore, MD       NaN        NaN        1.0                 B   \n",
       "\n",
       "        CARRIER_DELAY  WEATHER_DELAY  NAS_DELAY  SECURITY_DELAY  \\\n",
       "165               NaN            NaN        NaN             NaN   \n",
       "749               NaN            NaN        NaN             NaN   \n",
       "763               NaN            NaN        NaN             NaN   \n",
       "784731            NaN            NaN        NaN             NaN   \n",
       "784788            NaN            NaN        NaN             NaN   \n",
       "784790            NaN            NaN        NaN             NaN   \n",
       "\n",
       "        LATE_AIRCRAFT_DELAY  \n",
       "165                     NaN  \n",
       "749                     NaN  \n",
       "763                     NaN  \n",
       "784731                  NaN  \n",
       "784788                  NaN  \n",
       "784790                  NaN  "
      ]
     },
     "execution_count": 11,
     "metadata": {},
     "output_type": "execute_result"
    }
   ],
   "source": [
    "dummy = df[(df['CANCELLED'] == 1)]\n",
    "print('dummy shape:', dummy.shape)\n",
    "print('====================================')\n",
    "print('dummy dataframe:')\n",
    "dummy.head(3).append(dummy.tail(3))"
   ]
  },
  {
   "cell_type": "code",
   "execution_count": 12,
   "metadata": {},
   "outputs": [
    {
     "data": {
      "text/plain": [
       "1"
      ]
     },
     "execution_count": 12,
     "metadata": {},
     "output_type": "execute_result"
    }
   ],
   "source": [
    "dummy.CANCELLED.nunique()"
   ]
  },
  {
   "cell_type": "code",
   "execution_count": 13,
   "metadata": {},
   "outputs": [
    {
     "data": {
      "text/plain": [
       "1.0    9399\n",
       "Name: CANCELLED, dtype: int64"
      ]
     },
     "execution_count": 13,
     "metadata": {},
     "output_type": "execute_result"
    }
   ],
   "source": [
    "dummy.CANCELLED.value_counts()"
   ]
  },
  {
   "cell_type": "markdown",
   "metadata": {},
   "source": [
    "It seems as it did work and that dummy dataframe has only canceled flights, so lets proceed to drop those flights"
   ]
  },
  {
   "cell_type": "code",
   "execution_count": 14,
   "metadata": {},
   "outputs": [
    {
     "data": {
      "text/html": [
       "<div>\n",
       "<style scoped>\n",
       "    .dataframe tbody tr th:only-of-type {\n",
       "        vertical-align: middle;\n",
       "    }\n",
       "\n",
       "    .dataframe tbody tr th {\n",
       "        vertical-align: top;\n",
       "    }\n",
       "\n",
       "    .dataframe thead th {\n",
       "        text-align: right;\n",
       "    }\n",
       "</style>\n",
       "<table border=\"1\" class=\"dataframe\">\n",
       "  <thead>\n",
       "    <tr style=\"text-align: right;\">\n",
       "      <th></th>\n",
       "      <th>FL_DATE</th>\n",
       "      <th>MKT_CARRIER</th>\n",
       "      <th>OP_UNIQUE_CARRIER</th>\n",
       "      <th>ORIGIN_CITY_NAME</th>\n",
       "      <th>DEST_CITY_NAME</th>\n",
       "      <th>DEP_TIME</th>\n",
       "      <th>DEP_DELAY</th>\n",
       "      <th>CANCELLED</th>\n",
       "      <th>CANCELLATION_CODE</th>\n",
       "      <th>CARRIER_DELAY</th>\n",
       "      <th>WEATHER_DELAY</th>\n",
       "      <th>NAS_DELAY</th>\n",
       "      <th>SECURITY_DELAY</th>\n",
       "      <th>LATE_AIRCRAFT_DELAY</th>\n",
       "    </tr>\n",
       "  </thead>\n",
       "  <tbody>\n",
       "    <tr>\n",
       "      <th>0</th>\n",
       "      <td>1.12.2020</td>\n",
       "      <td>American Airlines</td>\n",
       "      <td>OH</td>\n",
       "      <td>Norfolk, VA</td>\n",
       "      <td>Charlotte, NC</td>\n",
       "      <td>1210.0</td>\n",
       "      <td>-9.0</td>\n",
       "      <td>0.0</td>\n",
       "      <td>NaN</td>\n",
       "      <td>NaN</td>\n",
       "      <td>NaN</td>\n",
       "      <td>NaN</td>\n",
       "      <td>NaN</td>\n",
       "      <td>NaN</td>\n",
       "    </tr>\n",
       "    <tr>\n",
       "      <th>1</th>\n",
       "      <td>1.12.2020</td>\n",
       "      <td>American Airlines</td>\n",
       "      <td>OH</td>\n",
       "      <td>Peoria, IL</td>\n",
       "      <td>Charlotte, NC</td>\n",
       "      <td>655.0</td>\n",
       "      <td>-5.0</td>\n",
       "      <td>0.0</td>\n",
       "      <td>NaN</td>\n",
       "      <td>NaN</td>\n",
       "      <td>NaN</td>\n",
       "      <td>NaN</td>\n",
       "      <td>NaN</td>\n",
       "      <td>NaN</td>\n",
       "    </tr>\n",
       "  </tbody>\n",
       "</table>\n",
       "</div>"
      ],
      "text/plain": [
       "     FL_DATE        MKT_CARRIER OP_UNIQUE_CARRIER ORIGIN_CITY_NAME  \\\n",
       "0  1.12.2020  American Airlines                OH      Norfolk, VA   \n",
       "1  1.12.2020  American Airlines                OH       Peoria, IL   \n",
       "\n",
       "  DEST_CITY_NAME  DEP_TIME  DEP_DELAY  CANCELLED CANCELLATION_CODE  \\\n",
       "0  Charlotte, NC    1210.0       -9.0        0.0               NaN   \n",
       "1  Charlotte, NC     655.0       -5.0        0.0               NaN   \n",
       "\n",
       "   CARRIER_DELAY  WEATHER_DELAY  NAS_DELAY  SECURITY_DELAY  \\\n",
       "0            NaN            NaN        NaN             NaN   \n",
       "1            NaN            NaN        NaN             NaN   \n",
       "\n",
       "   LATE_AIRCRAFT_DELAY  \n",
       "0                  NaN  \n",
       "1                  NaN  "
      ]
     },
     "execution_count": 14,
     "metadata": {},
     "output_type": "execute_result"
    }
   ],
   "source": [
    "df = df[(df['CANCELLED'] == 0)]\n",
    "df.head(2)"
   ]
  },
  {
   "cell_type": "code",
   "execution_count": 15,
   "metadata": {},
   "outputs": [],
   "source": [
    "#df = df.drop(['CANCELLED'], axis = 1)"
   ]
  },
  {
   "cell_type": "code",
   "execution_count": 16,
   "metadata": {},
   "outputs": [
    {
     "data": {
      "text/plain": [
       "(775454, 14)"
      ]
     },
     "execution_count": 16,
     "metadata": {},
     "output_type": "execute_result"
    }
   ],
   "source": [
    "df.shape"
   ]
  },
  {
   "cell_type": "markdown",
   "metadata": {},
   "source": [
    "## CANCELLATION_CODE"
   ]
  },
  {
   "cell_type": "code",
   "execution_count": 17,
   "metadata": {},
   "outputs": [
    {
     "data": {
      "text/plain": [
       "0"
      ]
     },
     "execution_count": 17,
     "metadata": {},
     "output_type": "execute_result"
    }
   ],
   "source": [
    "df.CANCELLATION_CODE.nunique()"
   ]
  },
  {
   "cell_type": "code",
   "execution_count": 18,
   "metadata": {},
   "outputs": [
    {
     "data": {
      "text/plain": [
       "Series([], Name: CANCELLATION_CODE, dtype: int64)"
      ]
     },
     "execution_count": 18,
     "metadata": {},
     "output_type": "execute_result"
    }
   ],
   "source": [
    "df.CANCELLATION_CODE.value_counts()"
   ]
  },
  {
   "cell_type": "code",
   "execution_count": 19,
   "metadata": {},
   "outputs": [
    {
     "data": {
      "text/plain": [
       "array([nan], dtype=object)"
      ]
     },
     "execution_count": 19,
     "metadata": {},
     "output_type": "execute_result"
    }
   ],
   "source": [
    "df.CANCELLATION_CODE.unique()"
   ]
  },
  {
   "cell_type": "code",
   "execution_count": 20,
   "metadata": {},
   "outputs": [
    {
     "data": {
      "text/html": [
       "<div>\n",
       "<style scoped>\n",
       "    .dataframe tbody tr th:only-of-type {\n",
       "        vertical-align: middle;\n",
       "    }\n",
       "\n",
       "    .dataframe tbody tr th {\n",
       "        vertical-align: top;\n",
       "    }\n",
       "\n",
       "    .dataframe thead th {\n",
       "        text-align: right;\n",
       "    }\n",
       "</style>\n",
       "<table border=\"1\" class=\"dataframe\">\n",
       "  <thead>\n",
       "    <tr style=\"text-align: right;\">\n",
       "      <th></th>\n",
       "      <th>Code</th>\n",
       "      <th>Description</th>\n",
       "    </tr>\n",
       "  </thead>\n",
       "  <tbody>\n",
       "    <tr>\n",
       "      <th>0</th>\n",
       "      <td>\"A</td>\n",
       "      <td>\"\"Carrier\"\"\"</td>\n",
       "    </tr>\n",
       "    <tr>\n",
       "      <th>1</th>\n",
       "      <td>\"B</td>\n",
       "      <td>\"\"Weather\"\"\"</td>\n",
       "    </tr>\n",
       "    <tr>\n",
       "      <th>2</th>\n",
       "      <td>\"C</td>\n",
       "      <td>\"\"National Air System\"\"\"</td>\n",
       "    </tr>\n",
       "    <tr>\n",
       "      <th>3</th>\n",
       "      <td>\"D</td>\n",
       "      <td>\"\"Security\"\"\"</td>\n",
       "    </tr>\n",
       "  </tbody>\n",
       "</table>\n",
       "</div>"
      ],
      "text/plain": [
       "  Code               Description\n",
       "0   \"A              \"\"Carrier\"\"\"\n",
       "1   \"B              \"\"Weather\"\"\"\n",
       "2   \"C  \"\"National Air System\"\"\"\n",
       "3   \"D             \"\"Security\"\"\""
      ]
     },
     "execution_count": 20,
     "metadata": {},
     "output_type": "execute_result"
    }
   ],
   "source": [
    "cancellation_code"
   ]
  },
  {
   "cell_type": "code",
   "execution_count": 21,
   "metadata": {},
   "outputs": [],
   "source": [
    "CC_A = df['CANCELLATION_CODE'] == 'A'\n",
    "CC_B = df['CANCELLATION_CODE'] == 'B'\n",
    "CC_C = df['CANCELLATION_CODE'] == 'C'\n",
    "CC_D = df['CANCELLATION_CODE'] == 'D'"
   ]
  },
  {
   "cell_type": "code",
   "execution_count": 22,
   "metadata": {},
   "outputs": [
    {
     "name": "stdout",
     "output_type": "stream",
     "text": [
      "df1_CC_A shape: (0, 14)\n",
      "df1_CC_B shape: (0, 14)\n",
      "df1_CC_C shape: (0, 14)\n",
      "df1_CC_D shape: (0, 14)\n"
     ]
    }
   ],
   "source": [
    "df_CC_A = df[CC_A]\n",
    "df_CC_B = df[CC_B]\n",
    "df_CC_C = df[CC_C]\n",
    "df_CC_D = df[CC_D]\n",
    "print('df1_CC_A shape:', df_CC_A.shape)\n",
    "print('df1_CC_B shape:', df_CC_B.shape)\n",
    "print('df1_CC_C shape:', df_CC_C.shape)\n",
    "print('df1_CC_D shape:', df_CC_D.shape)"
   ]
  },
  {
   "cell_type": "code",
   "execution_count": 23,
   "metadata": {},
   "outputs": [],
   "source": [
    "df = df.drop([\"CANCELLATION_CODE\"], axis=1)"
   ]
  },
  {
   "cell_type": "markdown",
   "metadata": {},
   "source": [
    "## ORIGIN_CITY_NAME & DEST_CITY_NAME"
   ]
  },
  {
   "cell_type": "markdown",
   "metadata": {},
   "source": [
    "These two column have the IATA airports codes for the origin and destination. \n",
    "I will try to change it to a real city name so that I can do flight analysis per city as well as part of the EDA."
   ]
  },
  {
   "cell_type": "code",
   "execution_count": 24,
   "metadata": {},
   "outputs": [
    {
     "data": {
      "text/html": [
       "<div>\n",
       "<style scoped>\n",
       "    .dataframe tbody tr th:only-of-type {\n",
       "        vertical-align: middle;\n",
       "    }\n",
       "\n",
       "    .dataframe tbody tr th {\n",
       "        vertical-align: top;\n",
       "    }\n",
       "\n",
       "    .dataframe thead th {\n",
       "        text-align: right;\n",
       "    }\n",
       "</style>\n",
       "<table border=\"1\" class=\"dataframe\">\n",
       "  <thead>\n",
       "    <tr style=\"text-align: right;\">\n",
       "      <th></th>\n",
       "      <th>Code</th>\n",
       "      <th>Description</th>\n",
       "    </tr>\n",
       "  </thead>\n",
       "  <tbody>\n",
       "    <tr>\n",
       "      <th>0</th>\n",
       "      <td>\"02Q</td>\n",
       "      <td>\"\"Titan Airways (2006 - )\"\"\"</td>\n",
       "    </tr>\n",
       "    <tr>\n",
       "      <th>1</th>\n",
       "      <td>\"04Q</td>\n",
       "      <td>\"\"Tradewind Aviation (2006 - )\"\"\"</td>\n",
       "    </tr>\n",
       "    <tr>\n",
       "      <th>2</th>\n",
       "      <td>\"06Q</td>\n",
       "      <td>\"\"Master Top Linhas Aereas Ltd. (2007 - )\"\"\"</td>\n",
       "    </tr>\n",
       "    <tr>\n",
       "      <th>3</th>\n",
       "      <td>\"07Q</td>\n",
       "      <td>\"\"Flair Airlines Ltd. (2007 - )\"\"\"</td>\n",
       "    </tr>\n",
       "    <tr>\n",
       "      <th>4</th>\n",
       "      <td>\"0BQ</td>\n",
       "      <td>\"\"DCA (2007 - )\"\"\"</td>\n",
       "    </tr>\n",
       "    <tr>\n",
       "      <th>5</th>\n",
       "      <td>\"0CQ</td>\n",
       "      <td>\"\"ACM AIR CHARTER GmbH (2007 - )\"\"\"</td>\n",
       "    </tr>\n",
       "    <tr>\n",
       "      <th>6</th>\n",
       "      <td>\"0HQ</td>\n",
       "      <td>\"\"Polar Airlines de Mexico d/b/a Nova Air (200...</td>\n",
       "    </tr>\n",
       "    <tr>\n",
       "      <th>7</th>\n",
       "      <td>\"0IQ</td>\n",
       "      <td>\"\"Lynx Aviation d/b/a Frontier Airlines (2007 ...</td>\n",
       "    </tr>\n",
       "    <tr>\n",
       "      <th>8</th>\n",
       "      <td>\"0J</td>\n",
       "      <td>\"\"JetClub AG (2007 - )\"\"\"</td>\n",
       "    </tr>\n",
       "    <tr>\n",
       "      <th>9</th>\n",
       "      <td>\"0JQ</td>\n",
       "      <td>\"\"Vision Airlines (2008 - 2015)\"\"\"</td>\n",
       "    </tr>\n",
       "  </tbody>\n",
       "</table>\n",
       "</div>"
      ],
      "text/plain": [
       "   Code                                        Description\n",
       "0  \"02Q                       \"\"Titan Airways (2006 - )\"\"\"\n",
       "1  \"04Q                  \"\"Tradewind Aviation (2006 - )\"\"\"\n",
       "2  \"06Q       \"\"Master Top Linhas Aereas Ltd. (2007 - )\"\"\"\n",
       "3  \"07Q                 \"\"Flair Airlines Ltd. (2007 - )\"\"\"\n",
       "4  \"0BQ                                 \"\"DCA (2007 - )\"\"\"\n",
       "5  \"0CQ                \"\"ACM AIR CHARTER GmbH (2007 - )\"\"\"\n",
       "6  \"0HQ  \"\"Polar Airlines de Mexico d/b/a Nova Air (200...\n",
       "7  \"0IQ  \"\"Lynx Aviation d/b/a Frontier Airlines (2007 ...\n",
       "8   \"0J                          \"\"JetClub AG (2007 - )\"\"\"\n",
       "9  \"0JQ                 \"\"Vision Airlines (2008 - 2015)\"\"\""
      ]
     },
     "execution_count": 24,
     "metadata": {},
     "output_type": "execute_result"
    }
   ],
   "source": [
    "marketing_carrier_code.head(10)"
   ]
  },
  {
   "cell_type": "code",
   "execution_count": 25,
   "metadata": {},
   "outputs": [
    {
     "data": {
      "text/html": [
       "<div>\n",
       "<style scoped>\n",
       "    .dataframe tbody tr th:only-of-type {\n",
       "        vertical-align: middle;\n",
       "    }\n",
       "\n",
       "    .dataframe tbody tr th {\n",
       "        vertical-align: top;\n",
       "    }\n",
       "\n",
       "    .dataframe thead th {\n",
       "        text-align: right;\n",
       "    }\n",
       "</style>\n",
       "<table border=\"1\" class=\"dataframe\">\n",
       "  <thead>\n",
       "    <tr style=\"text-align: right;\">\n",
       "      <th></th>\n",
       "      <th>Code</th>\n",
       "      <th>Description</th>\n",
       "    </tr>\n",
       "  </thead>\n",
       "  <tbody>\n",
       "    <tr>\n",
       "      <th>0</th>\n",
       "      <td>\"02Q</td>\n",
       "      <td>\"\"Titan Airways\"\"\"</td>\n",
       "    </tr>\n",
       "    <tr>\n",
       "      <th>1</th>\n",
       "      <td>\"04Q</td>\n",
       "      <td>\"\"Tradewind Aviation\"\"\"</td>\n",
       "    </tr>\n",
       "    <tr>\n",
       "      <th>2</th>\n",
       "      <td>\"06Q</td>\n",
       "      <td>\"\"Master Top Linhas Aereas Ltd.\"\"\"</td>\n",
       "    </tr>\n",
       "    <tr>\n",
       "      <th>3</th>\n",
       "      <td>\"07Q</td>\n",
       "      <td>\"\"Flair Airlines Ltd.\"\"\"</td>\n",
       "    </tr>\n",
       "    <tr>\n",
       "      <th>4</th>\n",
       "      <td>\"0BQ</td>\n",
       "      <td>\"\"DCA\"\"\"</td>\n",
       "    </tr>\n",
       "    <tr>\n",
       "      <th>5</th>\n",
       "      <td>\"0CQ</td>\n",
       "      <td>\"\"ACM AIR CHARTER GmbH\"\"\"</td>\n",
       "    </tr>\n",
       "    <tr>\n",
       "      <th>6</th>\n",
       "      <td>\"0HQ</td>\n",
       "      <td>\"\"Polar Airlines de Mexico d/b/a Nova Air\"\"\"</td>\n",
       "    </tr>\n",
       "    <tr>\n",
       "      <th>7</th>\n",
       "      <td>\"0J</td>\n",
       "      <td>\"\"JetClub AG\"\"\"</td>\n",
       "    </tr>\n",
       "    <tr>\n",
       "      <th>8</th>\n",
       "      <td>\"0JQ</td>\n",
       "      <td>\"\"Vision Airlines\"\"\"</td>\n",
       "    </tr>\n",
       "    <tr>\n",
       "      <th>9</th>\n",
       "      <td>\"0OQ</td>\n",
       "      <td>\"\"Open Skies\"\"\"</td>\n",
       "    </tr>\n",
       "  </tbody>\n",
       "</table>\n",
       "</div>"
      ],
      "text/plain": [
       "   Code                                   Description\n",
       "0  \"02Q                            \"\"Titan Airways\"\"\"\n",
       "1  \"04Q                       \"\"Tradewind Aviation\"\"\"\n",
       "2  \"06Q            \"\"Master Top Linhas Aereas Ltd.\"\"\"\n",
       "3  \"07Q                      \"\"Flair Airlines Ltd.\"\"\"\n",
       "4  \"0BQ                                      \"\"DCA\"\"\"\n",
       "5  \"0CQ                     \"\"ACM AIR CHARTER GmbH\"\"\"\n",
       "6  \"0HQ  \"\"Polar Airlines de Mexico d/b/a Nova Air\"\"\"\n",
       "7   \"0J                               \"\"JetClub AG\"\"\"\n",
       "8  \"0JQ                          \"\"Vision Airlines\"\"\"\n",
       "9  \"0OQ                               \"\"Open Skies\"\"\""
      ]
     },
     "execution_count": 25,
     "metadata": {},
     "output_type": "execute_result"
    }
   ],
   "source": [
    "operating_carrier_code.head(10)"
   ]
  },
  {
   "cell_type": "markdown",
   "metadata": {},
   "source": [
    "# DELAY REASONS"
   ]
  },
  {
   "cell_type": "markdown",
   "metadata": {},
   "source": [
    "On this section I will deal with 5 columns at the same time that are related:\n",
    "\n",
    "CARRIER_DELAY\n",
    "WEATHER_DELAY\n",
    "NAS_DELAY\n",
    "SECURITY_DELAY\n",
    "LATE_AIRCRAFT_DELAY\n",
    "These 5 are all reasons for the flights to be delayed. Before I make any decision related to them, \n",
    "let's see how much information is in them first:"
   ]
  },
  {
   "cell_type": "code",
   "execution_count": 26,
   "metadata": {},
   "outputs": [
    {
     "name": "stdout",
     "output_type": "stream",
     "text": [
      "691696\n",
      "691696\n",
      "691696\n",
      "691696\n",
      "691696\n"
     ]
    }
   ],
   "source": [
    "print(df.CARRIER_DELAY.isna().sum())\n",
    "print(df.WEATHER_DELAY.isna().sum())\n",
    "print(df.NAS_DELAY.isna().sum())\n",
    "print(df.SECURITY_DELAY.isna().sum())\n",
    "print(df.LATE_AIRCRAFT_DELAY.isna().sum())"
   ]
  },
  {
   "cell_type": "markdown",
   "metadata": {},
   "source": [
    "It seems there are no  values missing"
   ]
  },
  {
   "cell_type": "code",
   "execution_count": 27,
   "metadata": {},
   "outputs": [
    {
     "name": "stdout",
     "output_type": "stream",
     "text": [
      "The current shape of df1 is: (775454, 8)\n"
     ]
    },
    {
     "data": {
      "text/html": [
       "<div>\n",
       "<style scoped>\n",
       "    .dataframe tbody tr th:only-of-type {\n",
       "        vertical-align: middle;\n",
       "    }\n",
       "\n",
       "    .dataframe tbody tr th {\n",
       "        vertical-align: top;\n",
       "    }\n",
       "\n",
       "    .dataframe thead th {\n",
       "        text-align: right;\n",
       "    }\n",
       "</style>\n",
       "<table border=\"1\" class=\"dataframe\">\n",
       "  <thead>\n",
       "    <tr style=\"text-align: right;\">\n",
       "      <th></th>\n",
       "      <th>FL_DATE</th>\n",
       "      <th>MKT_CARRIER</th>\n",
       "      <th>OP_UNIQUE_CARRIER</th>\n",
       "      <th>ORIGIN_CITY_NAME</th>\n",
       "      <th>DEST_CITY_NAME</th>\n",
       "      <th>DEP_TIME</th>\n",
       "      <th>DEP_DELAY</th>\n",
       "      <th>CANCELLED</th>\n",
       "    </tr>\n",
       "  </thead>\n",
       "  <tbody>\n",
       "    <tr>\n",
       "      <th>0</th>\n",
       "      <td>1.12.2020</td>\n",
       "      <td>American Airlines</td>\n",
       "      <td>OH</td>\n",
       "      <td>Norfolk, VA</td>\n",
       "      <td>Charlotte, NC</td>\n",
       "      <td>1210.0</td>\n",
       "      <td>-9.0</td>\n",
       "      <td>0.0</td>\n",
       "    </tr>\n",
       "    <tr>\n",
       "      <th>1</th>\n",
       "      <td>1.12.2020</td>\n",
       "      <td>American Airlines</td>\n",
       "      <td>OH</td>\n",
       "      <td>Peoria, IL</td>\n",
       "      <td>Charlotte, NC</td>\n",
       "      <td>655.0</td>\n",
       "      <td>-5.0</td>\n",
       "      <td>0.0</td>\n",
       "    </tr>\n",
       "    <tr>\n",
       "      <th>2</th>\n",
       "      <td>1.12.2020</td>\n",
       "      <td>American Airlines</td>\n",
       "      <td>OH</td>\n",
       "      <td>Charleston/Dunbar, WV</td>\n",
       "      <td>Charlotte, NC</td>\n",
       "      <td>826.0</td>\n",
       "      <td>96.0</td>\n",
       "      <td>0.0</td>\n",
       "    </tr>\n",
       "    <tr>\n",
       "      <th>784850</th>\n",
       "      <td>1.2.2021</td>\n",
       "      <td>Southwest Airlines</td>\n",
       "      <td>WN</td>\n",
       "      <td>Houston, TX</td>\n",
       "      <td>Omaha, NE</td>\n",
       "      <td>2045.0</td>\n",
       "      <td>-5.0</td>\n",
       "      <td>0.0</td>\n",
       "    </tr>\n",
       "    <tr>\n",
       "      <th>784851</th>\n",
       "      <td>1.2.2021</td>\n",
       "      <td>Southwest Airlines</td>\n",
       "      <td>WN</td>\n",
       "      <td>Houston, TX</td>\n",
       "      <td>Phoenix, AZ</td>\n",
       "      <td>1659.0</td>\n",
       "      <td>-6.0</td>\n",
       "      <td>0.0</td>\n",
       "    </tr>\n",
       "    <tr>\n",
       "      <th>784852</th>\n",
       "      <td>1.2.2021</td>\n",
       "      <td>Southwest Airlines</td>\n",
       "      <td>WN</td>\n",
       "      <td>Houston, TX</td>\n",
       "      <td>Phoenix, AZ</td>\n",
       "      <td>814.0</td>\n",
       "      <td>-6.0</td>\n",
       "      <td>0.0</td>\n",
       "    </tr>\n",
       "  </tbody>\n",
       "</table>\n",
       "</div>"
      ],
      "text/plain": [
       "          FL_DATE         MKT_CARRIER OP_UNIQUE_CARRIER  \\\n",
       "0       1.12.2020   American Airlines                OH   \n",
       "1       1.12.2020   American Airlines                OH   \n",
       "2       1.12.2020   American Airlines                OH   \n",
       "784850   1.2.2021  Southwest Airlines                WN   \n",
       "784851   1.2.2021  Southwest Airlines                WN   \n",
       "784852   1.2.2021  Southwest Airlines                WN   \n",
       "\n",
       "             ORIGIN_CITY_NAME DEST_CITY_NAME  DEP_TIME  DEP_DELAY  CANCELLED  \n",
       "0                 Norfolk, VA  Charlotte, NC    1210.0       -9.0        0.0  \n",
       "1                  Peoria, IL  Charlotte, NC     655.0       -5.0        0.0  \n",
       "2       Charleston/Dunbar, WV  Charlotte, NC     826.0       96.0        0.0  \n",
       "784850            Houston, TX      Omaha, NE    2045.0       -5.0        0.0  \n",
       "784851            Houston, TX    Phoenix, AZ    1659.0       -6.0        0.0  \n",
       "784852            Houston, TX    Phoenix, AZ     814.0       -6.0        0.0  "
      ]
     },
     "execution_count": 27,
     "metadata": {},
     "output_type": "execute_result"
    }
   ],
   "source": [
    "df = df.drop(['CARRIER_DELAY', 'WEATHER_DELAY', 'NAS_DELAY', 'SECURITY_DELAY', 'LATE_AIRCRAFT_DELAY'], axis=1)\n",
    "print('The current shape of df1 is:', df.shape)\n",
    "df.head(3).append(df.tail(3))"
   ]
  },
  {
   "cell_type": "markdown",
   "metadata": {},
   "source": [
    "### MKT_CARRIER"
   ]
  },
  {
   "cell_type": "markdown",
   "metadata": {},
   "source": [
    "is is an easy one as I won't be using the flight number for my predictions, so it is a quick drop once again"
   ]
  },
  {
   "cell_type": "code",
   "execution_count": 28,
   "metadata": {},
   "outputs": [
    {
     "data": {
      "text/html": [
       "<div>\n",
       "<style scoped>\n",
       "    .dataframe tbody tr th:only-of-type {\n",
       "        vertical-align: middle;\n",
       "    }\n",
       "\n",
       "    .dataframe tbody tr th {\n",
       "        vertical-align: top;\n",
       "    }\n",
       "\n",
       "    .dataframe thead th {\n",
       "        text-align: right;\n",
       "    }\n",
       "</style>\n",
       "<table border=\"1\" class=\"dataframe\">\n",
       "  <thead>\n",
       "    <tr style=\"text-align: right;\">\n",
       "      <th></th>\n",
       "      <th>FL_DATE</th>\n",
       "      <th>MKT_CARRIER</th>\n",
       "      <th>OP_UNIQUE_CARRIER</th>\n",
       "      <th>ORIGIN_CITY_NAME</th>\n",
       "      <th>DEST_CITY_NAME</th>\n",
       "      <th>DEP_TIME</th>\n",
       "      <th>DEP_DELAY</th>\n",
       "      <th>CANCELLED</th>\n",
       "    </tr>\n",
       "  </thead>\n",
       "  <tbody>\n",
       "    <tr>\n",
       "      <th>0</th>\n",
       "      <td>1.12.2020</td>\n",
       "      <td>American Airlines</td>\n",
       "      <td>OH</td>\n",
       "      <td>Norfolk, VA</td>\n",
       "      <td>Charlotte, NC</td>\n",
       "      <td>1210.0</td>\n",
       "      <td>-9.0</td>\n",
       "      <td>0.0</td>\n",
       "    </tr>\n",
       "    <tr>\n",
       "      <th>1</th>\n",
       "      <td>1.12.2020</td>\n",
       "      <td>American Airlines</td>\n",
       "      <td>OH</td>\n",
       "      <td>Peoria, IL</td>\n",
       "      <td>Charlotte, NC</td>\n",
       "      <td>655.0</td>\n",
       "      <td>-5.0</td>\n",
       "      <td>0.0</td>\n",
       "    </tr>\n",
       "    <tr>\n",
       "      <th>2</th>\n",
       "      <td>1.12.2020</td>\n",
       "      <td>American Airlines</td>\n",
       "      <td>OH</td>\n",
       "      <td>Charleston/Dunbar, WV</td>\n",
       "      <td>Charlotte, NC</td>\n",
       "      <td>826.0</td>\n",
       "      <td>96.0</td>\n",
       "      <td>0.0</td>\n",
       "    </tr>\n",
       "  </tbody>\n",
       "</table>\n",
       "</div>"
      ],
      "text/plain": [
       "     FL_DATE        MKT_CARRIER OP_UNIQUE_CARRIER       ORIGIN_CITY_NAME  \\\n",
       "0  1.12.2020  American Airlines                OH            Norfolk, VA   \n",
       "1  1.12.2020  American Airlines                OH             Peoria, IL   \n",
       "2  1.12.2020  American Airlines                OH  Charleston/Dunbar, WV   \n",
       "\n",
       "  DEST_CITY_NAME  DEP_TIME  DEP_DELAY  CANCELLED  \n",
       "0  Charlotte, NC    1210.0       -9.0        0.0  \n",
       "1  Charlotte, NC     655.0       -5.0        0.0  \n",
       "2  Charlotte, NC     826.0       96.0        0.0  "
      ]
     },
     "execution_count": 28,
     "metadata": {},
     "output_type": "execute_result"
    }
   ],
   "source": [
    "#df = df.drop(['MKT_CARRIER'], axis=1)\n",
    "df.head(3)"
   ]
  },
  {
   "cell_type": "markdown",
   "metadata": {},
   "source": [
    "## DEP_TIME"
   ]
  },
  {
   "cell_type": "markdown",
   "metadata": {},
   "source": [
    "After analysing the data for quite some time I realized that the content of the DEP_TIME (departure time)  variables \n",
    "can be a bit misleading since they don't contain the dates. \n"
   ]
  },
  {
   "cell_type": "code",
   "execution_count": 29,
   "metadata": {},
   "outputs": [
    {
     "data": {
      "text/html": [
       "<div>\n",
       "<style scoped>\n",
       "    .dataframe tbody tr th:only-of-type {\n",
       "        vertical-align: middle;\n",
       "    }\n",
       "\n",
       "    .dataframe tbody tr th {\n",
       "        vertical-align: top;\n",
       "    }\n",
       "\n",
       "    .dataframe thead th {\n",
       "        text-align: right;\n",
       "    }\n",
       "</style>\n",
       "<table border=\"1\" class=\"dataframe\">\n",
       "  <thead>\n",
       "    <tr style=\"text-align: right;\">\n",
       "      <th></th>\n",
       "      <th>FL_DATE</th>\n",
       "      <th>MKT_CARRIER</th>\n",
       "      <th>OP_UNIQUE_CARRIER</th>\n",
       "      <th>ORIGIN_CITY_NAME</th>\n",
       "      <th>DEST_CITY_NAME</th>\n",
       "      <th>DEP_DELAY</th>\n",
       "      <th>CANCELLED</th>\n",
       "    </tr>\n",
       "  </thead>\n",
       "  <tbody>\n",
       "    <tr>\n",
       "      <th>0</th>\n",
       "      <td>1.12.2020</td>\n",
       "      <td>American Airlines</td>\n",
       "      <td>OH</td>\n",
       "      <td>Norfolk, VA</td>\n",
       "      <td>Charlotte, NC</td>\n",
       "      <td>-9.0</td>\n",
       "      <td>0.0</td>\n",
       "    </tr>\n",
       "    <tr>\n",
       "      <th>1</th>\n",
       "      <td>1.12.2020</td>\n",
       "      <td>American Airlines</td>\n",
       "      <td>OH</td>\n",
       "      <td>Peoria, IL</td>\n",
       "      <td>Charlotte, NC</td>\n",
       "      <td>-5.0</td>\n",
       "      <td>0.0</td>\n",
       "    </tr>\n",
       "  </tbody>\n",
       "</table>\n",
       "</div>"
      ],
      "text/plain": [
       "     FL_DATE        MKT_CARRIER OP_UNIQUE_CARRIER ORIGIN_CITY_NAME  \\\n",
       "0  1.12.2020  American Airlines                OH      Norfolk, VA   \n",
       "1  1.12.2020  American Airlines                OH       Peoria, IL   \n",
       "\n",
       "  DEST_CITY_NAME  DEP_DELAY  CANCELLED  \n",
       "0  Charlotte, NC       -9.0        0.0  \n",
       "1  Charlotte, NC       -5.0        0.0  "
      ]
     },
     "execution_count": 29,
     "metadata": {},
     "output_type": "execute_result"
    }
   ],
   "source": [
    "df.drop(columns=['DEP_TIME'], inplace=True)\n",
    "df.head(2)"
   ]
  },
  {
   "cell_type": "markdown",
   "metadata": {},
   "source": [
    "At this point it is a good idea to save at least a first version of the dataframe due all the pre-processing/cleaning done to it.\n",
    "This way we can always come back to this point instead of re-running everything which will be time consuming due to the size \n",
    "of the data set."
   ]
  },
  {
   "cell_type": "code",
   "execution_count": 30,
   "metadata": {},
   "outputs": [],
   "source": [
    "df.to_csv('df.csv')"
   ]
  },
  {
   "cell_type": "markdown",
   "metadata": {},
   "source": [
    "## More Cleaning\n",
    "## Dealing with Missing Values - NaN"
   ]
  },
  {
   "cell_type": "code",
   "execution_count": 31,
   "metadata": {},
   "outputs": [
    {
     "name": "stdout",
     "output_type": "stream",
     "text": [
      "<class 'pandas.core.frame.DataFrame'>\n",
      "Int64Index: 775454 entries, 0 to 784852\n",
      "Data columns (total 7 columns):\n",
      " #   Column             Non-Null Count   Dtype  \n",
      "---  ------             --------------   -----  \n",
      " 0   FL_DATE            775454 non-null  object \n",
      " 1   MKT_CARRIER        775454 non-null  object \n",
      " 2   OP_UNIQUE_CARRIER  775454 non-null  object \n",
      " 3   ORIGIN_CITY_NAME   775454 non-null  object \n",
      " 4   DEST_CITY_NAME     775454 non-null  object \n",
      " 5   DEP_DELAY          775454 non-null  float64\n",
      " 6   CANCELLED          775454 non-null  float64\n",
      "dtypes: float64(2), object(5)\n",
      "memory usage: 47.3+ MB\n"
     ]
    }
   ],
   "source": [
    "df.info()"
   ]
  },
  {
   "cell_type": "code",
   "execution_count": 32,
   "metadata": {},
   "outputs": [
    {
     "data": {
      "text/plain": [
       "FL_DATE              0\n",
       "MKT_CARRIER          0\n",
       "OP_UNIQUE_CARRIER    0\n",
       "ORIGIN_CITY_NAME     0\n",
       "DEST_CITY_NAME       0\n",
       "DEP_DELAY            0\n",
       "CANCELLED            0\n",
       "dtype: int64"
      ]
     },
     "execution_count": 32,
     "metadata": {},
     "output_type": "execute_result"
    }
   ],
   "source": [
    "df.isna().sum()"
   ]
  },
  {
   "cell_type": "code",
   "execution_count": 33,
   "metadata": {},
   "outputs": [
    {
     "name": "stdout",
     "output_type": "stream",
     "text": [
      "df shape: (775454, 7)\n"
     ]
    }
   ],
   "source": [
    "print('df shape:', df.shape)"
   ]
  },
  {
   "cell_type": "markdown",
   "metadata": {},
   "source": [
    "## DEP_DELAY"
   ]
  },
  {
   "cell_type": "markdown",
   "metadata": {},
   "source": [
    "The DEP_DELAY refers to the \"Departure Delay\", which is the difference between DEP_TIME (Actual Departure Time) and \n",
    "the SCH_DEP_TIME (Scheduled Departute time), therefore, if there are no delays for the departure, then the DEP_DELAY equals 0 \n",
    "(zero), and this is when it ends up being a NaN"
   ]
  },
  {
   "cell_type": "code",
   "execution_count": 34,
   "metadata": {},
   "outputs": [
    {
     "data": {
      "text/plain": [
       "FL_DATE              0\n",
       "MKT_CARRIER          0\n",
       "OP_UNIQUE_CARRIER    0\n",
       "ORIGIN_CITY_NAME     0\n",
       "DEST_CITY_NAME       0\n",
       "DEP_DELAY            0\n",
       "CANCELLED            0\n",
       "dtype: int64"
      ]
     },
     "execution_count": 34,
     "metadata": {},
     "output_type": "execute_result"
    }
   ],
   "source": [
    "df[\"DEP_DELAY\"] = df[\"DEP_DELAY\"].fillna(0)\n",
    "df.isna().sum()"
   ]
  },
  {
   "cell_type": "code",
   "execution_count": 35,
   "metadata": {},
   "outputs": [
    {
     "data": {
      "text/plain": [
       "(775454, 7)"
      ]
     },
     "execution_count": 35,
     "metadata": {},
     "output_type": "execute_result"
    }
   ],
   "source": [
    "df.shape"
   ]
  },
  {
   "cell_type": "code",
   "execution_count": 36,
   "metadata": {},
   "outputs": [
    {
     "data": {
      "text/html": [
       "<div>\n",
       "<style scoped>\n",
       "    .dataframe tbody tr th:only-of-type {\n",
       "        vertical-align: middle;\n",
       "    }\n",
       "\n",
       "    .dataframe tbody tr th {\n",
       "        vertical-align: top;\n",
       "    }\n",
       "\n",
       "    .dataframe thead th {\n",
       "        text-align: right;\n",
       "    }\n",
       "</style>\n",
       "<table border=\"1\" class=\"dataframe\">\n",
       "  <thead>\n",
       "    <tr style=\"text-align: right;\">\n",
       "      <th></th>\n",
       "      <th>FL_DATE</th>\n",
       "      <th>MKT_CARRIER</th>\n",
       "      <th>OP_UNIQUE_CARRIER</th>\n",
       "      <th>ORIGIN_CITY_NAME</th>\n",
       "      <th>DEST_CITY_NAME</th>\n",
       "      <th>DEP_DELAY</th>\n",
       "      <th>CANCELLED</th>\n",
       "    </tr>\n",
       "  </thead>\n",
       "  <tbody>\n",
       "    <tr>\n",
       "      <th>0</th>\n",
       "      <td>1.12.2020</td>\n",
       "      <td>American Airlines</td>\n",
       "      <td>OH</td>\n",
       "      <td>Norfolk, VA</td>\n",
       "      <td>Charlotte, NC</td>\n",
       "      <td>-9.0</td>\n",
       "      <td>0.0</td>\n",
       "    </tr>\n",
       "    <tr>\n",
       "      <th>1</th>\n",
       "      <td>1.12.2020</td>\n",
       "      <td>American Airlines</td>\n",
       "      <td>OH</td>\n",
       "      <td>Peoria, IL</td>\n",
       "      <td>Charlotte, NC</td>\n",
       "      <td>-5.0</td>\n",
       "      <td>0.0</td>\n",
       "    </tr>\n",
       "    <tr>\n",
       "      <th>2</th>\n",
       "      <td>1.12.2020</td>\n",
       "      <td>American Airlines</td>\n",
       "      <td>OH</td>\n",
       "      <td>Charleston/Dunbar, WV</td>\n",
       "      <td>Charlotte, NC</td>\n",
       "      <td>96.0</td>\n",
       "      <td>0.0</td>\n",
       "    </tr>\n",
       "    <tr>\n",
       "      <th>3</th>\n",
       "      <td>1.12.2020</td>\n",
       "      <td>American Airlines</td>\n",
       "      <td>OH</td>\n",
       "      <td>Cincinnati, OH</td>\n",
       "      <td>Charlotte, NC</td>\n",
       "      <td>-4.0</td>\n",
       "      <td>0.0</td>\n",
       "    </tr>\n",
       "    <tr>\n",
       "      <th>4</th>\n",
       "      <td>1.12.2020</td>\n",
       "      <td>American Airlines</td>\n",
       "      <td>OH</td>\n",
       "      <td>Charlotte, NC</td>\n",
       "      <td>Cincinnati, OH</td>\n",
       "      <td>-7.0</td>\n",
       "      <td>0.0</td>\n",
       "    </tr>\n",
       "  </tbody>\n",
       "</table>\n",
       "</div>"
      ],
      "text/plain": [
       "     FL_DATE        MKT_CARRIER OP_UNIQUE_CARRIER       ORIGIN_CITY_NAME  \\\n",
       "0  1.12.2020  American Airlines                OH            Norfolk, VA   \n",
       "1  1.12.2020  American Airlines                OH             Peoria, IL   \n",
       "2  1.12.2020  American Airlines                OH  Charleston/Dunbar, WV   \n",
       "3  1.12.2020  American Airlines                OH         Cincinnati, OH   \n",
       "4  1.12.2020  American Airlines                OH          Charlotte, NC   \n",
       "\n",
       "   DEST_CITY_NAME  DEP_DELAY  CANCELLED  \n",
       "0   Charlotte, NC       -9.0        0.0  \n",
       "1   Charlotte, NC       -5.0        0.0  \n",
       "2   Charlotte, NC       96.0        0.0  \n",
       "3   Charlotte, NC       -4.0        0.0  \n",
       "4  Cincinnati, OH       -7.0        0.0  "
      ]
     },
     "execution_count": 36,
     "metadata": {},
     "output_type": "execute_result"
    }
   ],
   "source": [
    "df.head()"
   ]
  },
  {
   "cell_type": "markdown",
   "metadata": {},
   "source": [
    "## Data Engineering\n"
   ]
  },
  {
   "cell_type": "markdown",
   "metadata": {},
   "source": [
    "## Date Format"
   ]
  },
  {
   "cell_type": "code",
   "execution_count": 37,
   "metadata": {},
   "outputs": [
    {
     "data": {
      "text/html": [
       "<div>\n",
       "<style scoped>\n",
       "    .dataframe tbody tr th:only-of-type {\n",
       "        vertical-align: middle;\n",
       "    }\n",
       "\n",
       "    .dataframe tbody tr th {\n",
       "        vertical-align: top;\n",
       "    }\n",
       "\n",
       "    .dataframe thead th {\n",
       "        text-align: right;\n",
       "    }\n",
       "</style>\n",
       "<table border=\"1\" class=\"dataframe\">\n",
       "  <thead>\n",
       "    <tr style=\"text-align: right;\">\n",
       "      <th></th>\n",
       "      <th>FL_DATE</th>\n",
       "      <th>MKT_CARRIER</th>\n",
       "      <th>OP_UNIQUE_CARRIER</th>\n",
       "      <th>ORIGIN_CITY_NAME</th>\n",
       "      <th>DEST_CITY_NAME</th>\n",
       "      <th>DEP_DELAY</th>\n",
       "      <th>CANCELLED</th>\n",
       "      <th>DAY</th>\n",
       "      <th>MONTH</th>\n",
       "    </tr>\n",
       "  </thead>\n",
       "  <tbody>\n",
       "    <tr>\n",
       "      <th>0</th>\n",
       "      <td>1.12.2020</td>\n",
       "      <td>American Airlines</td>\n",
       "      <td>OH</td>\n",
       "      <td>Norfolk, VA</td>\n",
       "      <td>Charlotte, NC</td>\n",
       "      <td>-9.0</td>\n",
       "      <td>0.0</td>\n",
       "      <td>12</td>\n",
       "      <td>1</td>\n",
       "    </tr>\n",
       "    <tr>\n",
       "      <th>1</th>\n",
       "      <td>1.12.2020</td>\n",
       "      <td>American Airlines</td>\n",
       "      <td>OH</td>\n",
       "      <td>Peoria, IL</td>\n",
       "      <td>Charlotte, NC</td>\n",
       "      <td>-5.0</td>\n",
       "      <td>0.0</td>\n",
       "      <td>12</td>\n",
       "      <td>1</td>\n",
       "    </tr>\n",
       "  </tbody>\n",
       "</table>\n",
       "</div>"
      ],
      "text/plain": [
       "     FL_DATE        MKT_CARRIER OP_UNIQUE_CARRIER ORIGIN_CITY_NAME  \\\n",
       "0  1.12.2020  American Airlines                OH      Norfolk, VA   \n",
       "1  1.12.2020  American Airlines                OH       Peoria, IL   \n",
       "\n",
       "  DEST_CITY_NAME  DEP_DELAY  CANCELLED  DAY  MONTH  \n",
       "0  Charlotte, NC       -9.0        0.0   12      1  \n",
       "1  Charlotte, NC       -5.0        0.0   12      1  "
      ]
     },
     "execution_count": 37,
     "metadata": {},
     "output_type": "execute_result"
    }
   ],
   "source": [
    "df['DAY'] = pd.DatetimeIndex(df['FL_DATE']).day\n",
    "df['MONTH'] = pd.DatetimeIndex(df['FL_DATE']).month\n",
    "df.head(2)"
   ]
  },
  {
   "cell_type": "code",
   "execution_count": 38,
   "metadata": {},
   "outputs": [
    {
     "name": "stdout",
     "output_type": "stream",
     "text": [
      "Maximum number of days in a month: 22\n",
      "Total number of months: 12\n"
     ]
    }
   ],
   "source": [
    "print('Maximum number of days in a month:', df.DAY.nunique())\n",
    "print('Total number of months:', df.MONTH.nunique())"
   ]
  },
  {
   "cell_type": "markdown",
   "metadata": {},
   "source": [
    "For visual purposes and because I will be using the month values to analyze which are the best and worst months to travel in terms of delays, \n",
    "I will convert the numerical (int) month value into the month abbreviation"
   ]
  },
  {
   "cell_type": "code",
   "execution_count": 39,
   "metadata": {},
   "outputs": [],
   "source": [
    "import calendar\n",
    "df['MONTH_AB'] = df['MONTH'].apply(lambda x: calendar.month_abbr[x])"
   ]
  },
  {
   "cell_type": "code",
   "execution_count": 40,
   "metadata": {},
   "outputs": [
    {
     "data": {
      "text/html": [
       "<div>\n",
       "<style scoped>\n",
       "    .dataframe tbody tr th:only-of-type {\n",
       "        vertical-align: middle;\n",
       "    }\n",
       "\n",
       "    .dataframe tbody tr th {\n",
       "        vertical-align: top;\n",
       "    }\n",
       "\n",
       "    .dataframe thead th {\n",
       "        text-align: right;\n",
       "    }\n",
       "</style>\n",
       "<table border=\"1\" class=\"dataframe\">\n",
       "  <thead>\n",
       "    <tr style=\"text-align: right;\">\n",
       "      <th></th>\n",
       "      <th>FL_DATE</th>\n",
       "      <th>MKT_CARRIER</th>\n",
       "      <th>OP_UNIQUE_CARRIER</th>\n",
       "      <th>ORIGIN_CITY_NAME</th>\n",
       "      <th>DEST_CITY_NAME</th>\n",
       "      <th>DEP_DELAY</th>\n",
       "      <th>CANCELLED</th>\n",
       "      <th>DAY</th>\n",
       "      <th>MONTH</th>\n",
       "      <th>MONTH_AB</th>\n",
       "    </tr>\n",
       "  </thead>\n",
       "  <tbody>\n",
       "    <tr>\n",
       "      <th>0</th>\n",
       "      <td>1.12.2020</td>\n",
       "      <td>American Airlines</td>\n",
       "      <td>OH</td>\n",
       "      <td>Norfolk, VA</td>\n",
       "      <td>Charlotte, NC</td>\n",
       "      <td>-9.0</td>\n",
       "      <td>0.0</td>\n",
       "      <td>12</td>\n",
       "      <td>1</td>\n",
       "      <td>Jan</td>\n",
       "    </tr>\n",
       "    <tr>\n",
       "      <th>1</th>\n",
       "      <td>1.12.2020</td>\n",
       "      <td>American Airlines</td>\n",
       "      <td>OH</td>\n",
       "      <td>Peoria, IL</td>\n",
       "      <td>Charlotte, NC</td>\n",
       "      <td>-5.0</td>\n",
       "      <td>0.0</td>\n",
       "      <td>12</td>\n",
       "      <td>1</td>\n",
       "      <td>Jan</td>\n",
       "    </tr>\n",
       "  </tbody>\n",
       "</table>\n",
       "</div>"
      ],
      "text/plain": [
       "     FL_DATE        MKT_CARRIER OP_UNIQUE_CARRIER ORIGIN_CITY_NAME  \\\n",
       "0  1.12.2020  American Airlines                OH      Norfolk, VA   \n",
       "1  1.12.2020  American Airlines                OH       Peoria, IL   \n",
       "\n",
       "  DEST_CITY_NAME  DEP_DELAY  CANCELLED  DAY  MONTH MONTH_AB  \n",
       "0  Charlotte, NC       -9.0        0.0   12      1      Jan  \n",
       "1  Charlotte, NC       -5.0        0.0   12      1      Jan  "
      ]
     },
     "execution_count": 40,
     "metadata": {},
     "output_type": "execute_result"
    }
   ],
   "source": [
    "df.head(2)"
   ]
  },
  {
   "cell_type": "code",
   "execution_count": 41,
   "metadata": {},
   "outputs": [
    {
     "name": "stdout",
     "output_type": "stream",
     "text": [
      "Months present in dataframe: [ 1  2  3  4  5  6  7  8  9 10 11 12]\n",
      "Months present in dataframe: ['Jan' 'Feb' 'Mar' 'Apr' 'May' 'Jun' 'Jul' 'Aug' 'Sep' 'Oct' 'Nov' 'Dec']\n"
     ]
    }
   ],
   "source": [
    "print('Months present in dataframe:', df.MONTH.unique())\n",
    "print('Months present in dataframe:', df.MONTH_AB.unique())"
   ]
  },
  {
   "cell_type": "markdown",
   "metadata": {},
   "source": [
    "# "
   ]
  },
  {
   "cell_type": "markdown",
   "metadata": {},
   "source": [
    "## Prepare for Modeling\n",
    "### This is a short notebook done to prepare the dataframe that will be used for all the Modeling and it will contain the same information than the df dataframe, but filtered to the top 20 destination in terms on numbers of flights"
   ]
  },
  {
   "cell_type": "markdown",
   "metadata": {},
   "source": [
    "## Data Loading"
   ]
  },
  {
   "cell_type": "code",
   "execution_count": 42,
   "metadata": {},
   "outputs": [
    {
     "data": {
      "text/html": [
       "<div>\n",
       "<style scoped>\n",
       "    .dataframe tbody tr th:only-of-type {\n",
       "        vertical-align: middle;\n",
       "    }\n",
       "\n",
       "    .dataframe tbody tr th {\n",
       "        vertical-align: top;\n",
       "    }\n",
       "\n",
       "    .dataframe thead th {\n",
       "        text-align: right;\n",
       "    }\n",
       "</style>\n",
       "<table border=\"1\" class=\"dataframe\">\n",
       "  <thead>\n",
       "    <tr style=\"text-align: right;\">\n",
       "      <th></th>\n",
       "      <th>FL_DATE</th>\n",
       "      <th>MKT_CARRIER</th>\n",
       "      <th>OP_UNIQUE_CARRIER</th>\n",
       "      <th>ORIGIN_CITY_NAME</th>\n",
       "      <th>DEST_CITY_NAME</th>\n",
       "      <th>DEP_DELAY</th>\n",
       "      <th>CANCELLED</th>\n",
       "    </tr>\n",
       "  </thead>\n",
       "  <tbody>\n",
       "    <tr>\n",
       "      <th>0</th>\n",
       "      <td>1.12.2020</td>\n",
       "      <td>American Airlines</td>\n",
       "      <td>OH</td>\n",
       "      <td>Norfolk, VA</td>\n",
       "      <td>Charlotte, NC</td>\n",
       "      <td>-9.0</td>\n",
       "      <td>0.0</td>\n",
       "    </tr>\n",
       "    <tr>\n",
       "      <th>1</th>\n",
       "      <td>1.12.2020</td>\n",
       "      <td>American Airlines</td>\n",
       "      <td>OH</td>\n",
       "      <td>Peoria, IL</td>\n",
       "      <td>Charlotte, NC</td>\n",
       "      <td>-5.0</td>\n",
       "      <td>0.0</td>\n",
       "    </tr>\n",
       "    <tr>\n",
       "      <th>2</th>\n",
       "      <td>1.12.2020</td>\n",
       "      <td>American Airlines</td>\n",
       "      <td>OH</td>\n",
       "      <td>Charleston/Dunbar, WV</td>\n",
       "      <td>Charlotte, NC</td>\n",
       "      <td>96.0</td>\n",
       "      <td>0.0</td>\n",
       "    </tr>\n",
       "    <tr>\n",
       "      <th>3</th>\n",
       "      <td>1.12.2020</td>\n",
       "      <td>American Airlines</td>\n",
       "      <td>OH</td>\n",
       "      <td>Cincinnati, OH</td>\n",
       "      <td>Charlotte, NC</td>\n",
       "      <td>-4.0</td>\n",
       "      <td>0.0</td>\n",
       "    </tr>\n",
       "    <tr>\n",
       "      <th>4</th>\n",
       "      <td>1.12.2020</td>\n",
       "      <td>American Airlines</td>\n",
       "      <td>OH</td>\n",
       "      <td>Charlotte, NC</td>\n",
       "      <td>Cincinnati, OH</td>\n",
       "      <td>-7.0</td>\n",
       "      <td>0.0</td>\n",
       "    </tr>\n",
       "  </tbody>\n",
       "</table>\n",
       "</div>"
      ],
      "text/plain": [
       "     FL_DATE        MKT_CARRIER OP_UNIQUE_CARRIER       ORIGIN_CITY_NAME  \\\n",
       "0  1.12.2020  American Airlines                OH            Norfolk, VA   \n",
       "1  1.12.2020  American Airlines                OH             Peoria, IL   \n",
       "2  1.12.2020  American Airlines                OH  Charleston/Dunbar, WV   \n",
       "3  1.12.2020  American Airlines                OH         Cincinnati, OH   \n",
       "4  1.12.2020  American Airlines                OH          Charlotte, NC   \n",
       "\n",
       "   DEST_CITY_NAME  DEP_DELAY  CANCELLED  \n",
       "0   Charlotte, NC       -9.0        0.0  \n",
       "1   Charlotte, NC       -5.0        0.0  \n",
       "2   Charlotte, NC       96.0        0.0  \n",
       "3   Charlotte, NC       -4.0        0.0  \n",
       "4  Cincinnati, OH       -7.0        0.0  "
      ]
     },
     "execution_count": 42,
     "metadata": {},
     "output_type": "execute_result"
    }
   ],
   "source": [
    "df = pd.read_csv('df.csv', index_col=0)\n",
    "df.head()"
   ]
  },
  {
   "cell_type": "code",
   "execution_count": 43,
   "metadata": {},
   "outputs": [],
   "source": [
    "df['FL_DATE'] = pd.to_datetime(df['FL_DATE'])\n",
    "df['WEEKDAY'] = df['FL_DATE'].dt.dayofweek"
   ]
  },
  {
   "cell_type": "code",
   "execution_count": 44,
   "metadata": {},
   "outputs": [
    {
     "data": {
      "text/plain": [
       "6    131574\n",
       "3    126092\n",
       "0    123073\n",
       "2    113158\n",
       "5    100790\n",
       "4     99548\n",
       "1     81219\n",
       "Name: WEEKDAY, dtype: int64"
      ]
     },
     "execution_count": 44,
     "metadata": {},
     "output_type": "execute_result"
    }
   ],
   "source": [
    "df.WEEKDAY.value_counts()"
   ]
  },
  {
   "cell_type": "code",
   "execution_count": 45,
   "metadata": {},
   "outputs": [
    {
     "data": {
      "text/html": [
       "<div>\n",
       "<style scoped>\n",
       "    .dataframe tbody tr th:only-of-type {\n",
       "        vertical-align: middle;\n",
       "    }\n",
       "\n",
       "    .dataframe tbody tr th {\n",
       "        vertical-align: top;\n",
       "    }\n",
       "\n",
       "    .dataframe thead th {\n",
       "        text-align: right;\n",
       "    }\n",
       "</style>\n",
       "<table border=\"1\" class=\"dataframe\">\n",
       "  <thead>\n",
       "    <tr style=\"text-align: right;\">\n",
       "      <th></th>\n",
       "      <th>FL_DATE</th>\n",
       "      <th>MKT_CARRIER</th>\n",
       "      <th>OP_UNIQUE_CARRIER</th>\n",
       "      <th>ORIGIN_CITY_NAME</th>\n",
       "      <th>DEST_CITY_NAME</th>\n",
       "      <th>DEP_DELAY</th>\n",
       "      <th>CANCELLED</th>\n",
       "      <th>WEEKDAY</th>\n",
       "    </tr>\n",
       "  </thead>\n",
       "  <tbody>\n",
       "    <tr>\n",
       "      <th>0</th>\n",
       "      <td>2020-01-12</td>\n",
       "      <td>American Airlines</td>\n",
       "      <td>OH</td>\n",
       "      <td>Norfolk, VA</td>\n",
       "      <td>Charlotte, NC</td>\n",
       "      <td>-9.0</td>\n",
       "      <td>0.0</td>\n",
       "      <td>6</td>\n",
       "    </tr>\n",
       "    <tr>\n",
       "      <th>1</th>\n",
       "      <td>2020-01-12</td>\n",
       "      <td>American Airlines</td>\n",
       "      <td>OH</td>\n",
       "      <td>Peoria, IL</td>\n",
       "      <td>Charlotte, NC</td>\n",
       "      <td>-5.0</td>\n",
       "      <td>0.0</td>\n",
       "      <td>6</td>\n",
       "    </tr>\n",
       "    <tr>\n",
       "      <th>2</th>\n",
       "      <td>2020-01-12</td>\n",
       "      <td>American Airlines</td>\n",
       "      <td>OH</td>\n",
       "      <td>Charleston/Dunbar, WV</td>\n",
       "      <td>Charlotte, NC</td>\n",
       "      <td>96.0</td>\n",
       "      <td>0.0</td>\n",
       "      <td>6</td>\n",
       "    </tr>\n",
       "  </tbody>\n",
       "</table>\n",
       "</div>"
      ],
      "text/plain": [
       "     FL_DATE        MKT_CARRIER OP_UNIQUE_CARRIER       ORIGIN_CITY_NAME  \\\n",
       "0 2020-01-12  American Airlines                OH            Norfolk, VA   \n",
       "1 2020-01-12  American Airlines                OH             Peoria, IL   \n",
       "2 2020-01-12  American Airlines                OH  Charleston/Dunbar, WV   \n",
       "\n",
       "  DEST_CITY_NAME  DEP_DELAY  CANCELLED  WEEKDAY  \n",
       "0  Charlotte, NC       -9.0        0.0        6  \n",
       "1  Charlotte, NC       -5.0        0.0        6  \n",
       "2  Charlotte, NC       96.0        0.0        6  "
      ]
     },
     "execution_count": 45,
     "metadata": {},
     "output_type": "execute_result"
    }
   ],
   "source": [
    "df.head(3)"
   ]
  },
  {
   "cell_type": "markdown",
   "metadata": {},
   "source": [
    "## Preprocessing"
   ]
  },
  {
   "cell_type": "markdown",
   "metadata": {},
   "source": [
    "Even though a lot of pre-processing and cleaning has been done on a separate notebook, this one will be only aiming to obtain a final dataframe for the modeling which will have the top 20 cities only. The reason to do it this way is because the DEST feature is a categorical column of 358 values. The hot encoding will then be done for this 20 instead of the 360 total destinations."
   ]
  },
  {
   "cell_type": "code",
   "execution_count": 46,
   "metadata": {},
   "outputs": [
    {
     "data": {
      "text/plain": [
       "Atlanta, GA              45940\n",
       "Dallas/Fort Worth, TX    39449\n",
       "Chicago, IL              36865\n",
       "Denver, CO               35206\n",
       "Charlotte, NC            30106\n",
       "                         ...  \n",
       "Hagerstown, MD              24\n",
       "Owensboro, KY               18\n",
       "Ogden, UT                   16\n",
       "Adak Island, AK             15\n",
       "Nantucket, MA               13\n",
       "Name: DEST_CITY_NAME, Length: 360, dtype: int64"
      ]
     },
     "execution_count": 46,
     "metadata": {},
     "output_type": "execute_result"
    }
   ],
   "source": [
    "df.DEST_CITY_NAME.value_counts()"
   ]
  },
  {
   "cell_type": "code",
   "execution_count": 47,
   "metadata": {},
   "outputs": [
    {
     "data": {
      "text/plain": [
       "Atlanta, GA              45940\n",
       "Dallas/Fort Worth, TX    39449\n",
       "Chicago, IL              36865\n",
       "Denver, CO               35206\n",
       "Charlotte, NC            30106\n",
       "Houston, TX              24769\n",
       "Seattle, WA              22108\n",
       "Phoenix, AZ              21708\n",
       "Los Angeles, CA          20297\n",
       "Detroit, MI              18667\n",
       "Salt Lake City, UT       17392\n",
       "Minneapolis, MN          16887\n",
       "Orlando, FL              16806\n",
       "Las Vegas, NV            16536\n",
       "Washington, DC           14947\n",
       "New York, NY             13969\n",
       "Philadelphia, PA         12466\n",
       "San Francisco, CA        12139\n",
       "Fort Lauderdale, FL      12034\n",
       "Newark, NJ               10566\n",
       "Name: DEST_CITY_NAME, dtype: int64"
      ]
     },
     "execution_count": 47,
     "metadata": {},
     "output_type": "execute_result"
    }
   ],
   "source": [
    "df.DEST_CITY_NAME.value_counts().iloc[:20]"
   ]
  },
  {
   "cell_type": "code",
   "execution_count": 48,
   "metadata": {},
   "outputs": [
    {
     "data": {
      "text/html": [
       "<div>\n",
       "<style scoped>\n",
       "    .dataframe tbody tr th:only-of-type {\n",
       "        vertical-align: middle;\n",
       "    }\n",
       "\n",
       "    .dataframe tbody tr th {\n",
       "        vertical-align: top;\n",
       "    }\n",
       "\n",
       "    .dataframe thead th {\n",
       "        text-align: right;\n",
       "    }\n",
       "</style>\n",
       "<table border=\"1\" class=\"dataframe\">\n",
       "  <thead>\n",
       "    <tr style=\"text-align: right;\">\n",
       "      <th></th>\n",
       "      <th>DEST_CITY_NAME</th>\n",
       "      <th>TOTAL_FLIGHTS</th>\n",
       "    </tr>\n",
       "  </thead>\n",
       "  <tbody>\n",
       "    <tr>\n",
       "      <th>0</th>\n",
       "      <td>Atlanta, GA</td>\n",
       "      <td>45940</td>\n",
       "    </tr>\n",
       "    <tr>\n",
       "      <th>1</th>\n",
       "      <td>Dallas/Fort Worth, TX</td>\n",
       "      <td>39449</td>\n",
       "    </tr>\n",
       "    <tr>\n",
       "      <th>2</th>\n",
       "      <td>Chicago, IL</td>\n",
       "      <td>36865</td>\n",
       "    </tr>\n",
       "    <tr>\n",
       "      <th>3</th>\n",
       "      <td>Denver, CO</td>\n",
       "      <td>35206</td>\n",
       "    </tr>\n",
       "    <tr>\n",
       "      <th>4</th>\n",
       "      <td>Charlotte, NC</td>\n",
       "      <td>30106</td>\n",
       "    </tr>\n",
       "  </tbody>\n",
       "</table>\n",
       "</div>"
      ],
      "text/plain": [
       "          DEST_CITY_NAME  TOTAL_FLIGHTS\n",
       "0            Atlanta, GA          45940\n",
       "1  Dallas/Fort Worth, TX          39449\n",
       "2            Chicago, IL          36865\n",
       "3             Denver, CO          35206\n",
       "4          Charlotte, NC          30106"
      ]
     },
     "execution_count": 48,
     "metadata": {},
     "output_type": "execute_result"
    }
   ],
   "source": [
    "top_cities = df.DEST_CITY_NAME.value_counts().iloc[0:20].rename_axis('DEST_CITY_NAME').reset_index(name='TOTAL_FLIGHTS')\n",
    "top_cities.head()"
   ]
  },
  {
   "cell_type": "code",
   "execution_count": 49,
   "metadata": {},
   "outputs": [
    {
     "data": {
      "text/plain": [
       "array(['Atlanta, GA', 'Dallas/Fort Worth, TX', 'Chicago, IL',\n",
       "       'Denver, CO', 'Charlotte, NC', 'Houston, TX', 'Seattle, WA',\n",
       "       'Phoenix, AZ', 'Los Angeles, CA', 'Detroit, MI',\n",
       "       'Salt Lake City, UT', 'Minneapolis, MN', 'Orlando, FL',\n",
       "       'Las Vegas, NV', 'Washington, DC', 'New York, NY',\n",
       "       'Philadelphia, PA', 'San Francisco, CA', 'Fort Lauderdale, FL',\n",
       "       'Newark, NJ'], dtype=object)"
      ]
     },
     "execution_count": 49,
     "metadata": {},
     "output_type": "execute_result"
    }
   ],
   "source": [
    "# Checking the cities within the numpy array just to verify that it worked\n",
    "top_cities.DEST_CITY_NAME.unique()"
   ]
  },
  {
   "cell_type": "code",
   "execution_count": 50,
   "metadata": {},
   "outputs": [],
   "source": [
    "# Creating a list with top 20 cities only:\n",
    "city_list = top_cities['DEST_CITY_NAME'].tolist()"
   ]
  },
  {
   "cell_type": "code",
   "execution_count": 51,
   "metadata": {},
   "outputs": [
    {
     "data": {
      "text/plain": [
       "['Atlanta, GA',\n",
       " 'Dallas/Fort Worth, TX',\n",
       " 'Chicago, IL',\n",
       " 'Denver, CO',\n",
       " 'Charlotte, NC',\n",
       " 'Houston, TX',\n",
       " 'Seattle, WA',\n",
       " 'Phoenix, AZ',\n",
       " 'Los Angeles, CA',\n",
       " 'Detroit, MI',\n",
       " 'Salt Lake City, UT',\n",
       " 'Minneapolis, MN',\n",
       " 'Orlando, FL',\n",
       " 'Las Vegas, NV',\n",
       " 'Washington, DC',\n",
       " 'New York, NY',\n",
       " 'Philadelphia, PA',\n",
       " 'San Francisco, CA',\n",
       " 'Fort Lauderdale, FL',\n",
       " 'Newark, NJ']"
      ]
     },
     "execution_count": 51,
     "metadata": {},
     "output_type": "execute_result"
    }
   ],
   "source": [
    "city_list"
   ]
  },
  {
   "cell_type": "markdown",
   "metadata": {},
   "source": [
    "### Now that it looks ok, I will use this list to filter the main dataframe (df) and create a new one called dfm which stands for \"datafame for modeling\""
   ]
  },
  {
   "cell_type": "code",
   "execution_count": 52,
   "metadata": {},
   "outputs": [
    {
     "data": {
      "text/html": [
       "<div>\n",
       "<style scoped>\n",
       "    .dataframe tbody tr th:only-of-type {\n",
       "        vertical-align: middle;\n",
       "    }\n",
       "\n",
       "    .dataframe tbody tr th {\n",
       "        vertical-align: top;\n",
       "    }\n",
       "\n",
       "    .dataframe thead th {\n",
       "        text-align: right;\n",
       "    }\n",
       "</style>\n",
       "<table border=\"1\" class=\"dataframe\">\n",
       "  <thead>\n",
       "    <tr style=\"text-align: right;\">\n",
       "      <th></th>\n",
       "      <th>FL_DATE</th>\n",
       "      <th>MKT_CARRIER</th>\n",
       "      <th>OP_UNIQUE_CARRIER</th>\n",
       "      <th>ORIGIN_CITY_NAME</th>\n",
       "      <th>DEST_CITY_NAME</th>\n",
       "      <th>DEP_DELAY</th>\n",
       "      <th>CANCELLED</th>\n",
       "      <th>WEEKDAY</th>\n",
       "    </tr>\n",
       "  </thead>\n",
       "  <tbody>\n",
       "    <tr>\n",
       "      <th>0</th>\n",
       "      <td>2020-01-12</td>\n",
       "      <td>American Airlines</td>\n",
       "      <td>OH</td>\n",
       "      <td>Norfolk, VA</td>\n",
       "      <td>Charlotte, NC</td>\n",
       "      <td>-9.0</td>\n",
       "      <td>0.0</td>\n",
       "      <td>6</td>\n",
       "    </tr>\n",
       "    <tr>\n",
       "      <th>1</th>\n",
       "      <td>2020-01-12</td>\n",
       "      <td>American Airlines</td>\n",
       "      <td>OH</td>\n",
       "      <td>Peoria, IL</td>\n",
       "      <td>Charlotte, NC</td>\n",
       "      <td>-5.0</td>\n",
       "      <td>0.0</td>\n",
       "      <td>6</td>\n",
       "    </tr>\n",
       "    <tr>\n",
       "      <th>2</th>\n",
       "      <td>2020-01-12</td>\n",
       "      <td>American Airlines</td>\n",
       "      <td>OH</td>\n",
       "      <td>Charleston/Dunbar, WV</td>\n",
       "      <td>Charlotte, NC</td>\n",
       "      <td>96.0</td>\n",
       "      <td>0.0</td>\n",
       "      <td>6</td>\n",
       "    </tr>\n",
       "    <tr>\n",
       "      <th>3</th>\n",
       "      <td>2020-01-12</td>\n",
       "      <td>American Airlines</td>\n",
       "      <td>OH</td>\n",
       "      <td>Cincinnati, OH</td>\n",
       "      <td>Charlotte, NC</td>\n",
       "      <td>-4.0</td>\n",
       "      <td>0.0</td>\n",
       "      <td>6</td>\n",
       "    </tr>\n",
       "    <tr>\n",
       "      <th>5</th>\n",
       "      <td>2020-01-12</td>\n",
       "      <td>American Airlines</td>\n",
       "      <td>OH</td>\n",
       "      <td>Cincinnati, OH</td>\n",
       "      <td>Charlotte, NC</td>\n",
       "      <td>-11.0</td>\n",
       "      <td>0.0</td>\n",
       "      <td>6</td>\n",
       "    </tr>\n",
       "  </tbody>\n",
       "</table>\n",
       "</div>"
      ],
      "text/plain": [
       "     FL_DATE        MKT_CARRIER OP_UNIQUE_CARRIER       ORIGIN_CITY_NAME  \\\n",
       "0 2020-01-12  American Airlines                OH            Norfolk, VA   \n",
       "1 2020-01-12  American Airlines                OH             Peoria, IL   \n",
       "2 2020-01-12  American Airlines                OH  Charleston/Dunbar, WV   \n",
       "3 2020-01-12  American Airlines                OH         Cincinnati, OH   \n",
       "5 2020-01-12  American Airlines                OH         Cincinnati, OH   \n",
       "\n",
       "  DEST_CITY_NAME  DEP_DELAY  CANCELLED  WEEKDAY  \n",
       "0  Charlotte, NC       -9.0        0.0        6  \n",
       "1  Charlotte, NC       -5.0        0.0        6  \n",
       "2  Charlotte, NC       96.0        0.0        6  \n",
       "3  Charlotte, NC       -4.0        0.0        6  \n",
       "5  Charlotte, NC      -11.0        0.0        6  "
      ]
     },
     "execution_count": 52,
     "metadata": {},
     "output_type": "execute_result"
    }
   ],
   "source": [
    "boolean_series = df.DEST_CITY_NAME.isin(city_list)\n",
    "dfm = df[boolean_series]\n",
    "dfm.head()"
   ]
  },
  {
   "cell_type": "code",
   "execution_count": 53,
   "metadata": {},
   "outputs": [],
   "source": [
    "dfm['DAY'] = pd.DatetimeIndex(dfm['FL_DATE']).day\n",
    "dfm['MONTH'] = pd.DatetimeIndex(dfm['FL_DATE']).month"
   ]
  },
  {
   "cell_type": "code",
   "execution_count": 54,
   "metadata": {},
   "outputs": [
    {
     "data": {
      "text/plain": [
       "Atlanta, GA              45940\n",
       "Dallas/Fort Worth, TX    39449\n",
       "Chicago, IL              36865\n",
       "Denver, CO               35206\n",
       "Charlotte, NC            30106\n",
       "Houston, TX              24769\n",
       "Seattle, WA              22108\n",
       "Phoenix, AZ              21708\n",
       "Los Angeles, CA          20297\n",
       "Detroit, MI              18667\n",
       "Salt Lake City, UT       17392\n",
       "Minneapolis, MN          16887\n",
       "Orlando, FL              16806\n",
       "Las Vegas, NV            16536\n",
       "Washington, DC           14947\n",
       "New York, NY             13969\n",
       "Philadelphia, PA         12466\n",
       "San Francisco, CA        12139\n",
       "Fort Lauderdale, FL      12034\n",
       "Newark, NJ               10566\n",
       "Name: DEST_CITY_NAME, dtype: int64"
      ]
     },
     "execution_count": 54,
     "metadata": {},
     "output_type": "execute_result"
    }
   ],
   "source": [
    "dfm.DEST_CITY_NAME.value_counts()"
   ]
  },
  {
   "cell_type": "code",
   "execution_count": 55,
   "metadata": {},
   "outputs": [
    {
     "data": {
      "text/plain": [
       "(438857, 10)"
      ]
     },
     "execution_count": 55,
     "metadata": {},
     "output_type": "execute_result"
    }
   ],
   "source": [
    "dfm.shape # New dataframe ready reduced to almost half the size of the original one"
   ]
  },
  {
   "cell_type": "code",
   "execution_count": 56,
   "metadata": {},
   "outputs": [
    {
     "data": {
      "text/plain": [
       "(775454, 8)"
      ]
     },
     "execution_count": 56,
     "metadata": {},
     "output_type": "execute_result"
    }
   ],
   "source": [
    "df.shape # Previous dataframe before this final filter"
   ]
  },
  {
   "cell_type": "code",
   "execution_count": 57,
   "metadata": {},
   "outputs": [
    {
     "name": "stdout",
     "output_type": "stream",
     "text": [
      "<class 'pandas.core.frame.DataFrame'>\n",
      "Int64Index: 438857 entries, 0 to 784852\n",
      "Data columns (total 10 columns):\n",
      " #   Column             Non-Null Count   Dtype         \n",
      "---  ------             --------------   -----         \n",
      " 0   FL_DATE            438857 non-null  datetime64[ns]\n",
      " 1   MKT_CARRIER        438857 non-null  object        \n",
      " 2   OP_UNIQUE_CARRIER  438857 non-null  object        \n",
      " 3   ORIGIN_CITY_NAME   438857 non-null  object        \n",
      " 4   DEST_CITY_NAME     438857 non-null  object        \n",
      " 5   DEP_DELAY          438857 non-null  float64       \n",
      " 6   CANCELLED          438857 non-null  float64       \n",
      " 7   WEEKDAY            438857 non-null  int64         \n",
      " 8   DAY                438857 non-null  int64         \n",
      " 9   MONTH              438857 non-null  int64         \n",
      "dtypes: datetime64[ns](1), float64(2), int64(3), object(4)\n",
      "memory usage: 36.8+ MB\n"
     ]
    }
   ],
   "source": [
    "dfm.info()"
   ]
  },
  {
   "cell_type": "code",
   "execution_count": 58,
   "metadata": {},
   "outputs": [],
   "source": [
    "dfm.to_csv('dfm.csv')"
   ]
  },
  {
   "cell_type": "markdown",
   "metadata": {},
   "source": [
    "## Collinearity Check"
   ]
  },
  {
   "cell_type": "markdown",
   "metadata": {},
   "source": [
    "Now with this reduced and cleaned dataframe it is time to look at how these features correlate to each others, and then I'll deal with the Categoricals"
   ]
  },
  {
   "cell_type": "code",
   "execution_count": 59,
   "metadata": {},
   "outputs": [
    {
     "data": {
      "text/html": [
       "<div>\n",
       "<style scoped>\n",
       "    .dataframe tbody tr th:only-of-type {\n",
       "        vertical-align: middle;\n",
       "    }\n",
       "\n",
       "    .dataframe tbody tr th {\n",
       "        vertical-align: top;\n",
       "    }\n",
       "\n",
       "    .dataframe thead th {\n",
       "        text-align: right;\n",
       "    }\n",
       "</style>\n",
       "<table border=\"1\" class=\"dataframe\">\n",
       "  <thead>\n",
       "    <tr style=\"text-align: right;\">\n",
       "      <th></th>\n",
       "      <th>FL_DATE</th>\n",
       "      <th>MKT_CARRIER</th>\n",
       "      <th>OP_UNIQUE_CARRIER</th>\n",
       "      <th>ORIGIN_CITY_NAME</th>\n",
       "      <th>DEST_CITY_NAME</th>\n",
       "      <th>DEP_DELAY</th>\n",
       "      <th>CANCELLED</th>\n",
       "      <th>WEEKDAY</th>\n",
       "      <th>DAY</th>\n",
       "      <th>MONTH</th>\n",
       "    </tr>\n",
       "  </thead>\n",
       "  <tbody>\n",
       "    <tr>\n",
       "      <th>0</th>\n",
       "      <td>2020-01-12</td>\n",
       "      <td>American Airlines</td>\n",
       "      <td>OH</td>\n",
       "      <td>Norfolk, VA</td>\n",
       "      <td>Charlotte, NC</td>\n",
       "      <td>-9.0</td>\n",
       "      <td>0.0</td>\n",
       "      <td>6</td>\n",
       "      <td>12</td>\n",
       "      <td>1</td>\n",
       "    </tr>\n",
       "    <tr>\n",
       "      <th>1</th>\n",
       "      <td>2020-01-12</td>\n",
       "      <td>American Airlines</td>\n",
       "      <td>OH</td>\n",
       "      <td>Peoria, IL</td>\n",
       "      <td>Charlotte, NC</td>\n",
       "      <td>-5.0</td>\n",
       "      <td>0.0</td>\n",
       "      <td>6</td>\n",
       "      <td>12</td>\n",
       "      <td>1</td>\n",
       "    </tr>\n",
       "    <tr>\n",
       "      <th>2</th>\n",
       "      <td>2020-01-12</td>\n",
       "      <td>American Airlines</td>\n",
       "      <td>OH</td>\n",
       "      <td>Charleston/Dunbar, WV</td>\n",
       "      <td>Charlotte, NC</td>\n",
       "      <td>96.0</td>\n",
       "      <td>0.0</td>\n",
       "      <td>6</td>\n",
       "      <td>12</td>\n",
       "      <td>1</td>\n",
       "    </tr>\n",
       "    <tr>\n",
       "      <th>3</th>\n",
       "      <td>2020-01-12</td>\n",
       "      <td>American Airlines</td>\n",
       "      <td>OH</td>\n",
       "      <td>Cincinnati, OH</td>\n",
       "      <td>Charlotte, NC</td>\n",
       "      <td>-4.0</td>\n",
       "      <td>0.0</td>\n",
       "      <td>6</td>\n",
       "      <td>12</td>\n",
       "      <td>1</td>\n",
       "    </tr>\n",
       "    <tr>\n",
       "      <th>5</th>\n",
       "      <td>2020-01-12</td>\n",
       "      <td>American Airlines</td>\n",
       "      <td>OH</td>\n",
       "      <td>Cincinnati, OH</td>\n",
       "      <td>Charlotte, NC</td>\n",
       "      <td>-11.0</td>\n",
       "      <td>0.0</td>\n",
       "      <td>6</td>\n",
       "      <td>12</td>\n",
       "      <td>1</td>\n",
       "    </tr>\n",
       "  </tbody>\n",
       "</table>\n",
       "</div>"
      ],
      "text/plain": [
       "     FL_DATE        MKT_CARRIER OP_UNIQUE_CARRIER       ORIGIN_CITY_NAME  \\\n",
       "0 2020-01-12  American Airlines                OH            Norfolk, VA   \n",
       "1 2020-01-12  American Airlines                OH             Peoria, IL   \n",
       "2 2020-01-12  American Airlines                OH  Charleston/Dunbar, WV   \n",
       "3 2020-01-12  American Airlines                OH         Cincinnati, OH   \n",
       "5 2020-01-12  American Airlines                OH         Cincinnati, OH   \n",
       "\n",
       "  DEST_CITY_NAME  DEP_DELAY  CANCELLED  WEEKDAY  DAY  MONTH  \n",
       "0  Charlotte, NC       -9.0        0.0        6   12      1  \n",
       "1  Charlotte, NC       -5.0        0.0        6   12      1  \n",
       "2  Charlotte, NC       96.0        0.0        6   12      1  \n",
       "3  Charlotte, NC       -4.0        0.0        6   12      1  \n",
       "5  Charlotte, NC      -11.0        0.0        6   12      1  "
      ]
     },
     "execution_count": 59,
     "metadata": {},
     "output_type": "execute_result"
    }
   ],
   "source": [
    "df3=dfm\n",
    "dfm.head()"
   ]
  },
  {
   "cell_type": "code",
   "execution_count": 60,
   "metadata": {},
   "outputs": [
    {
     "data": {
      "image/png": "[encoded data removed]",
      "text/plain": [
       "<Figure size 1440x1008 with 2 Axes>"
      ]
     },
     "metadata": {
      "needs_background": "light"
     },
     "output_type": "display_data"
    }
   ],
   "source": [
    "import matplotlib.pyplot as plt\n",
    "import seaborn as sns\n",
    "plt.figure(figsize=(20,14))\n",
    "ax = sns.heatmap(df3.corr(), cmap='viridis', center=0, annot=True)\n",
    "bottom, top = ax.get_ylim()\n",
    "plt.text(0,-0.6, \"df3 - Heat Map\", fontsize = 30, color='Black', fontstyle='normal')\n",
    "ax.set_ylim(bottom + 0.5, top - 0.5)\n",
    "plt.yticks(rotation=0, fontsize=14)\n",
    "plt.xticks(rotation=90, fontsize=14)\n",
    "plt.show()"
   ]
  },
  {
   "cell_type": "code",
   "execution_count": 61,
   "metadata": {},
   "outputs": [
    {
     "data": {
      "image/png": "[encoded data removed]",
      "text/plain": [
       "<Figure size 1080x1080 with 6 Axes>"
      ]
     },
     "metadata": {
      "needs_background": "light"
     },
     "output_type": "display_data"
    }
   ],
   "source": [
    "df3.hist(figsize  = [15, 15],bins=12) \n",
    "plt.show()"
   ]
  },
  {
   "cell_type": "code",
   "execution_count": 62,
   "metadata": {},
   "outputs": [
    {
     "data": {
      "text/html": [
       "<div>\n",
       "<style scoped>\n",
       "    .dataframe tbody tr th:only-of-type {\n",
       "        vertical-align: middle;\n",
       "    }\n",
       "\n",
       "    .dataframe tbody tr th {\n",
       "        vertical-align: top;\n",
       "    }\n",
       "\n",
       "    .dataframe thead th {\n",
       "        text-align: right;\n",
       "    }\n",
       "</style>\n",
       "<table border=\"1\" class=\"dataframe\">\n",
       "  <thead>\n",
       "    <tr style=\"text-align: right;\">\n",
       "      <th></th>\n",
       "      <th>FL_DATE</th>\n",
       "      <th>MKT_CARRIER</th>\n",
       "      <th>OP_UNIQUE_CARRIER</th>\n",
       "      <th>ORIGIN_CITY_NAME</th>\n",
       "      <th>DEST_CITY_NAME</th>\n",
       "      <th>DEP_DELAY</th>\n",
       "      <th>CANCELLED</th>\n",
       "      <th>WEEKDAY</th>\n",
       "      <th>DAY</th>\n",
       "      <th>MONTH</th>\n",
       "    </tr>\n",
       "  </thead>\n",
       "  <tbody>\n",
       "    <tr>\n",
       "      <th>0</th>\n",
       "      <td>2020-01-12</td>\n",
       "      <td>American Airlines</td>\n",
       "      <td>OH</td>\n",
       "      <td>Norfolk, VA</td>\n",
       "      <td>Charlotte, NC</td>\n",
       "      <td>-9.0</td>\n",
       "      <td>0.0</td>\n",
       "      <td>6</td>\n",
       "      <td>12</td>\n",
       "      <td>1</td>\n",
       "    </tr>\n",
       "    <tr>\n",
       "      <th>1</th>\n",
       "      <td>2020-01-12</td>\n",
       "      <td>American Airlines</td>\n",
       "      <td>OH</td>\n",
       "      <td>Peoria, IL</td>\n",
       "      <td>Charlotte, NC</td>\n",
       "      <td>-5.0</td>\n",
       "      <td>0.0</td>\n",
       "      <td>6</td>\n",
       "      <td>12</td>\n",
       "      <td>1</td>\n",
       "    </tr>\n",
       "    <tr>\n",
       "      <th>2</th>\n",
       "      <td>2020-01-12</td>\n",
       "      <td>American Airlines</td>\n",
       "      <td>OH</td>\n",
       "      <td>Charleston/Dunbar, WV</td>\n",
       "      <td>Charlotte, NC</td>\n",
       "      <td>96.0</td>\n",
       "      <td>0.0</td>\n",
       "      <td>6</td>\n",
       "      <td>12</td>\n",
       "      <td>1</td>\n",
       "    </tr>\n",
       "    <tr>\n",
       "      <th>3</th>\n",
       "      <td>2020-01-12</td>\n",
       "      <td>American Airlines</td>\n",
       "      <td>OH</td>\n",
       "      <td>Cincinnati, OH</td>\n",
       "      <td>Charlotte, NC</td>\n",
       "      <td>-4.0</td>\n",
       "      <td>0.0</td>\n",
       "      <td>6</td>\n",
       "      <td>12</td>\n",
       "      <td>1</td>\n",
       "    </tr>\n",
       "    <tr>\n",
       "      <th>5</th>\n",
       "      <td>2020-01-12</td>\n",
       "      <td>American Airlines</td>\n",
       "      <td>OH</td>\n",
       "      <td>Cincinnati, OH</td>\n",
       "      <td>Charlotte, NC</td>\n",
       "      <td>-11.0</td>\n",
       "      <td>0.0</td>\n",
       "      <td>6</td>\n",
       "      <td>12</td>\n",
       "      <td>1</td>\n",
       "    </tr>\n",
       "  </tbody>\n",
       "</table>\n",
       "</div>"
      ],
      "text/plain": [
       "     FL_DATE        MKT_CARRIER OP_UNIQUE_CARRIER       ORIGIN_CITY_NAME  \\\n",
       "0 2020-01-12  American Airlines                OH            Norfolk, VA   \n",
       "1 2020-01-12  American Airlines                OH             Peoria, IL   \n",
       "2 2020-01-12  American Airlines                OH  Charleston/Dunbar, WV   \n",
       "3 2020-01-12  American Airlines                OH         Cincinnati, OH   \n",
       "5 2020-01-12  American Airlines                OH         Cincinnati, OH   \n",
       "\n",
       "  DEST_CITY_NAME  DEP_DELAY  CANCELLED  WEEKDAY  DAY  MONTH  \n",
       "0  Charlotte, NC       -9.0        0.0        6   12      1  \n",
       "1  Charlotte, NC       -5.0        0.0        6   12      1  \n",
       "2  Charlotte, NC       96.0        0.0        6   12      1  \n",
       "3  Charlotte, NC       -4.0        0.0        6   12      1  \n",
       "5  Charlotte, NC      -11.0        0.0        6   12      1  "
      ]
     },
     "execution_count": 62,
     "metadata": {},
     "output_type": "execute_result"
    }
   ],
   "source": [
    "df3_jan = dfm[(dfm['MONTH'] == 1)]\n",
    "df3_jan.head()"
   ]
  },
  {
   "cell_type": "code",
   "execution_count": 63,
   "metadata": {},
   "outputs": [
    {
     "data": {
      "text/plain": [
       "1    144846\n",
       "Name: MONTH, dtype: int64"
      ]
     },
     "execution_count": 63,
     "metadata": {},
     "output_type": "execute_result"
    }
   ],
   "source": [
    "df3_jan.MONTH.value_counts()"
   ]
  },
  {
   "cell_type": "code",
   "execution_count": 64,
   "metadata": {},
   "outputs": [
    {
     "data": {
      "image/png": "[encoded data removed]",
      "text/plain": [
       "<Figure size 1080x648 with 1 Axes>"
      ]
     },
     "metadata": {},
     "output_type": "display_data"
    }
   ],
   "source": [
    "sns.set_style('darkgrid')\n",
    "\n",
    "fig = plt.figure(1, figsize=(15,9))\n",
    "ax = sns.barplot(x=\"WEEKDAY\", y=\"DEP_DELAY\", data=df3_jan, palette=\"Blues\")\n",
    "plt.title('January ', fontsize=18)\n",
    "plt.xlabel('Number of Destinations', fontsize=14, labelpad=10);\n",
    "plt.show()"
   ]
  },
  {
   "cell_type": "code",
   "execution_count": 65,
   "metadata": {},
   "outputs": [],
   "source": [
    "df3.to_csv('df3.csv')"
   ]
  },
  {
   "cell_type": "markdown",
   "metadata": {},
   "source": [
    "# EDA - Exploatary Data Analysis"
   ]
  },
  {
   "cell_type": "markdown",
   "metadata": {},
   "source": [
    "Clearly the pre-processing/cleaning notebook already represents a part of the EDA, but since that one was rather large, I thought it would be better to put all the visualizations on a separate one to make it easier to follow. There might be some additional cleaning if necessary on this notebook, of some more feature engineer which will be dictated as I try to answer some of the key questions related to delays."
   ]
  },
  {
   "cell_type": "code",
   "execution_count": 66,
   "metadata": {},
   "outputs": [
    {
     "data": {
      "text/html": [
       "<div>\n",
       "<style scoped>\n",
       "    .dataframe tbody tr th:only-of-type {\n",
       "        vertical-align: middle;\n",
       "    }\n",
       "\n",
       "    .dataframe tbody tr th {\n",
       "        vertical-align: top;\n",
       "    }\n",
       "\n",
       "    .dataframe thead th {\n",
       "        text-align: right;\n",
       "    }\n",
       "</style>\n",
       "<table border=\"1\" class=\"dataframe\">\n",
       "  <thead>\n",
       "    <tr style=\"text-align: right;\">\n",
       "      <th></th>\n",
       "      <th>FL_DATE</th>\n",
       "      <th>MKT_CARRIER</th>\n",
       "      <th>OP_UNIQUE_CARRIER</th>\n",
       "      <th>ORIGIN_CITY_NAME</th>\n",
       "      <th>DEST_CITY_NAME</th>\n",
       "      <th>DEP_DELAY</th>\n",
       "      <th>CANCELLED</th>\n",
       "      <th>WEEKDAY</th>\n",
       "      <th>DAY</th>\n",
       "      <th>MONTH</th>\n",
       "    </tr>\n",
       "  </thead>\n",
       "  <tbody>\n",
       "    <tr>\n",
       "      <th>0</th>\n",
       "      <td>2020-01-12</td>\n",
       "      <td>American Airlines</td>\n",
       "      <td>OH</td>\n",
       "      <td>Norfolk, VA</td>\n",
       "      <td>Charlotte, NC</td>\n",
       "      <td>-9.0</td>\n",
       "      <td>0.0</td>\n",
       "      <td>6</td>\n",
       "      <td>12</td>\n",
       "      <td>1</td>\n",
       "    </tr>\n",
       "    <tr>\n",
       "      <th>1</th>\n",
       "      <td>2020-01-12</td>\n",
       "      <td>American Airlines</td>\n",
       "      <td>OH</td>\n",
       "      <td>Peoria, IL</td>\n",
       "      <td>Charlotte, NC</td>\n",
       "      <td>-5.0</td>\n",
       "      <td>0.0</td>\n",
       "      <td>6</td>\n",
       "      <td>12</td>\n",
       "      <td>1</td>\n",
       "    </tr>\n",
       "    <tr>\n",
       "      <th>2</th>\n",
       "      <td>2020-01-12</td>\n",
       "      <td>American Airlines</td>\n",
       "      <td>OH</td>\n",
       "      <td>Charleston/Dunbar, WV</td>\n",
       "      <td>Charlotte, NC</td>\n",
       "      <td>96.0</td>\n",
       "      <td>0.0</td>\n",
       "      <td>6</td>\n",
       "      <td>12</td>\n",
       "      <td>1</td>\n",
       "    </tr>\n",
       "    <tr>\n",
       "      <th>784837</th>\n",
       "      <td>2021-01-02</td>\n",
       "      <td>Southwest Airlines</td>\n",
       "      <td>WN</td>\n",
       "      <td>Houston, TX</td>\n",
       "      <td>Chicago, IL</td>\n",
       "      <td>-2.0</td>\n",
       "      <td>0.0</td>\n",
       "      <td>5</td>\n",
       "      <td>2</td>\n",
       "      <td>1</td>\n",
       "    </tr>\n",
       "    <tr>\n",
       "      <th>784851</th>\n",
       "      <td>2021-01-02</td>\n",
       "      <td>Southwest Airlines</td>\n",
       "      <td>WN</td>\n",
       "      <td>Houston, TX</td>\n",
       "      <td>Phoenix, AZ</td>\n",
       "      <td>-6.0</td>\n",
       "      <td>0.0</td>\n",
       "      <td>5</td>\n",
       "      <td>2</td>\n",
       "      <td>1</td>\n",
       "    </tr>\n",
       "    <tr>\n",
       "      <th>784852</th>\n",
       "      <td>2021-01-02</td>\n",
       "      <td>Southwest Airlines</td>\n",
       "      <td>WN</td>\n",
       "      <td>Houston, TX</td>\n",
       "      <td>Phoenix, AZ</td>\n",
       "      <td>-6.0</td>\n",
       "      <td>0.0</td>\n",
       "      <td>5</td>\n",
       "      <td>2</td>\n",
       "      <td>1</td>\n",
       "    </tr>\n",
       "  </tbody>\n",
       "</table>\n",
       "</div>"
      ],
      "text/plain": [
       "           FL_DATE         MKT_CARRIER OP_UNIQUE_CARRIER  \\\n",
       "0       2020-01-12   American Airlines                OH   \n",
       "1       2020-01-12   American Airlines                OH   \n",
       "2       2020-01-12   American Airlines                OH   \n",
       "784837  2021-01-02  Southwest Airlines                WN   \n",
       "784851  2021-01-02  Southwest Airlines                WN   \n",
       "784852  2021-01-02  Southwest Airlines                WN   \n",
       "\n",
       "             ORIGIN_CITY_NAME DEST_CITY_NAME  DEP_DELAY  CANCELLED  WEEKDAY  \\\n",
       "0                 Norfolk, VA  Charlotte, NC       -9.0        0.0        6   \n",
       "1                  Peoria, IL  Charlotte, NC       -5.0        0.0        6   \n",
       "2       Charleston/Dunbar, WV  Charlotte, NC       96.0        0.0        6   \n",
       "784837            Houston, TX    Chicago, IL       -2.0        0.0        5   \n",
       "784851            Houston, TX    Phoenix, AZ       -6.0        0.0        5   \n",
       "784852            Houston, TX    Phoenix, AZ       -6.0        0.0        5   \n",
       "\n",
       "        DAY  MONTH  \n",
       "0        12      1  \n",
       "1        12      1  \n",
       "2        12      1  \n",
       "784837    2      1  \n",
       "784851    2      1  \n",
       "784852    2      1  "
      ]
     },
     "execution_count": 66,
     "metadata": {},
     "output_type": "execute_result"
    }
   ],
   "source": [
    "df = pd.read_csv('df3.csv', index_col=0)\n",
    "df.head(3).append(df.tail(3))"
   ]
  },
  {
   "cell_type": "code",
   "execution_count": 67,
   "metadata": {},
   "outputs": [
    {
     "data": {
      "text/plain": [
       "(438857, 10)"
      ]
     },
     "execution_count": 67,
     "metadata": {},
     "output_type": "execute_result"
    }
   ],
   "source": [
    "df.shape"
   ]
  },
  {
   "cell_type": "code",
   "execution_count": 68,
   "metadata": {},
   "outputs": [
    {
     "data": {
      "text/plain": [
       "Index(['FL_DATE', 'MKT_CARRIER', 'OP_UNIQUE_CARRIER', 'ORIGIN_CITY_NAME',\n",
       "       'DEST_CITY_NAME', 'DEP_DELAY', 'CANCELLED', 'WEEKDAY', 'DAY', 'MONTH'],\n",
       "      dtype='object')"
      ]
     },
     "execution_count": 68,
     "metadata": {},
     "output_type": "execute_result"
    }
   ],
   "source": [
    "df.columns"
   ]
  },
  {
   "cell_type": "markdown",
   "metadata": {},
   "source": [
    "## Total Number of Flights per Airline"
   ]
  },
  {
   "cell_type": "code",
   "execution_count": 69,
   "metadata": {},
   "outputs": [
    {
     "data": {
      "image/png": "[encoded data removed]",
      "text/plain": [
       "<Figure size 1440x720 with 1 Axes>"
      ]
     },
     "metadata": {},
     "output_type": "display_data"
    }
   ],
   "source": [
    "plt.figure(figsize=(20, 10))\n",
    "sns.set(font_scale=1.6)\n",
    "axis = sns.countplot(x=df['MKT_CARRIER'], data=df, order=df['MKT_CARRIER'].value_counts().iloc[0:18].index, orient=\"v\")\n",
    "axis.set_xticklabels(axis.get_xticklabels(), rotation=90, ha='right')\n",
    "plt.title('TOTAL NUMBER OF FLIGHTS BY AIRLINE', fontsize=24)\n",
    "plt.xlabel('OP_CARRIER/AIRLINE', fontsize=18)\n",
    "plt.ylabel('NUMBER OF FLIGHTS', fontsize=18)\n",
    "plt.tight_layout()\n",
    "plt.show()"
   ]
  },
  {
   "cell_type": "code",
   "execution_count": 70,
   "metadata": {},
   "outputs": [
    {
     "data": {
      "text/plain": [
       "Delta Airlines        121752\n",
       "American Airlines     113865\n",
       "United Airlines        85442\n",
       "Southwest Airlines     55186\n",
       "Alaska Airlines        23406\n",
       "Spirit Airlines        16501\n",
       "JetBlue Airways        10656\n",
       "Frontier Airlines       9044\n",
       "Allegiant Air           2468\n",
       "Hawaiian Airlines        537\n",
       "Name: MKT_CARRIER, dtype: int64"
      ]
     },
     "execution_count": 70,
     "metadata": {},
     "output_type": "execute_result"
    }
   ],
   "source": [
    "df.MKT_CARRIER.value_counts()"
   ]
  },
  {
   "cell_type": "markdown",
   "metadata": {},
   "source": [
    "This is quite an interesting plot to start with as it already tells us which are the airlines with the most domestic \n",
    "flights in the US:\n",
    "\n",
    "1. Delta Airlines\n",
    "2. American Airlines\n",
    "3. United Airlines \n",
    "\n",
    "\n",
    "Now the question to ask ourselves would be: if the top 5 airlines in terms of number of flight, are also the best in terms \n",
    "    of arriving on time? Lets see which are the airlines with the most delayed flight to try to answer this:"
   ]
  },
  {
   "cell_type": "markdown",
   "metadata": {},
   "source": [
    "## ANSWER : We can see that Delta Airlines made most flights"
   ]
  },
  {
   "cell_type": "markdown",
   "metadata": {},
   "source": [
    "# 20 Most Common Destination (Cities)"
   ]
  },
  {
   "cell_type": "code",
   "execution_count": 71,
   "metadata": {},
   "outputs": [
    {
     "data": {
      "image/png": "[encoded data removed]",
      "text/plain": [
       "<Figure size 1440x720 with 1 Axes>"
      ]
     },
     "metadata": {},
     "output_type": "display_data"
    }
   ],
   "source": [
    "plt.figure(figsize=(20, 10))\n",
    "sns.set(font_scale=1.6)\n",
    "axis = sns.countplot(x=df['DEST_CITY_NAME'], data=df, order=df['DEST_CITY_NAME'].value_counts().iloc[0:20].index)\n",
    "axis.set_xticklabels(axis.get_xticklabels(), rotation=90, ha='right')\n",
    "plt.title('Top 30 Destination Cities', fontsize=20)\n",
    "plt.xlabel('30 Top Destination Cities (DEST)', fontsize=14)\n",
    "plt.ylabel('Total Number of Flights', fontsize=14)\n",
    "plt.tight_layout()\n",
    "plt.show()"
   ]
  },
  {
   "cell_type": "markdown",
   "metadata": {},
   "source": [
    "## Departure Cities with the most Delayed Departure Flights"
   ]
  },
  {
   "cell_type": "code",
   "execution_count": 72,
   "metadata": {},
   "outputs": [
    {
     "data": {
      "text/html": [
       "<div>\n",
       "<style scoped>\n",
       "    .dataframe tbody tr th:only-of-type {\n",
       "        vertical-align: middle;\n",
       "    }\n",
       "\n",
       "    .dataframe tbody tr th {\n",
       "        vertical-align: top;\n",
       "    }\n",
       "\n",
       "    .dataframe thead th {\n",
       "        text-align: right;\n",
       "    }\n",
       "</style>\n",
       "<table border=\"1\" class=\"dataframe\">\n",
       "  <thead>\n",
       "    <tr style=\"text-align: right;\">\n",
       "      <th></th>\n",
       "      <th>FL_DATE</th>\n",
       "      <th>MKT_CARRIER</th>\n",
       "      <th>OP_UNIQUE_CARRIER</th>\n",
       "      <th>ORIGIN_CITY_NAME</th>\n",
       "      <th>DEST_CITY_NAME</th>\n",
       "      <th>DEP_DELAY</th>\n",
       "      <th>CANCELLED</th>\n",
       "      <th>WEEKDAY</th>\n",
       "      <th>DAY</th>\n",
       "      <th>MONTH</th>\n",
       "    </tr>\n",
       "  </thead>\n",
       "  <tbody>\n",
       "    <tr>\n",
       "      <th>0</th>\n",
       "      <td>2020-01-12</td>\n",
       "      <td>American Airlines</td>\n",
       "      <td>OH</td>\n",
       "      <td>Norfolk, VA</td>\n",
       "      <td>Charlotte, NC</td>\n",
       "      <td>-9.0</td>\n",
       "      <td>0.0</td>\n",
       "      <td>6</td>\n",
       "      <td>12</td>\n",
       "      <td>1</td>\n",
       "    </tr>\n",
       "    <tr>\n",
       "      <th>1</th>\n",
       "      <td>2020-01-12</td>\n",
       "      <td>American Airlines</td>\n",
       "      <td>OH</td>\n",
       "      <td>Peoria, IL</td>\n",
       "      <td>Charlotte, NC</td>\n",
       "      <td>-5.0</td>\n",
       "      <td>0.0</td>\n",
       "      <td>6</td>\n",
       "      <td>12</td>\n",
       "      <td>1</td>\n",
       "    </tr>\n",
       "    <tr>\n",
       "      <th>2</th>\n",
       "      <td>2020-01-12</td>\n",
       "      <td>American Airlines</td>\n",
       "      <td>OH</td>\n",
       "      <td>Charleston/Dunbar, WV</td>\n",
       "      <td>Charlotte, NC</td>\n",
       "      <td>96.0</td>\n",
       "      <td>0.0</td>\n",
       "      <td>6</td>\n",
       "      <td>12</td>\n",
       "      <td>1</td>\n",
       "    </tr>\n",
       "    <tr>\n",
       "      <th>3</th>\n",
       "      <td>2020-01-12</td>\n",
       "      <td>American Airlines</td>\n",
       "      <td>OH</td>\n",
       "      <td>Cincinnati, OH</td>\n",
       "      <td>Charlotte, NC</td>\n",
       "      <td>-4.0</td>\n",
       "      <td>0.0</td>\n",
       "      <td>6</td>\n",
       "      <td>12</td>\n",
       "      <td>1</td>\n",
       "    </tr>\n",
       "    <tr>\n",
       "      <th>5</th>\n",
       "      <td>2020-01-12</td>\n",
       "      <td>American Airlines</td>\n",
       "      <td>OH</td>\n",
       "      <td>Cincinnati, OH</td>\n",
       "      <td>Charlotte, NC</td>\n",
       "      <td>-11.0</td>\n",
       "      <td>0.0</td>\n",
       "      <td>6</td>\n",
       "      <td>12</td>\n",
       "      <td>1</td>\n",
       "    </tr>\n",
       "  </tbody>\n",
       "</table>\n",
       "</div>"
      ],
      "text/plain": [
       "      FL_DATE        MKT_CARRIER OP_UNIQUE_CARRIER       ORIGIN_CITY_NAME  \\\n",
       "0  2020-01-12  American Airlines                OH            Norfolk, VA   \n",
       "1  2020-01-12  American Airlines                OH             Peoria, IL   \n",
       "2  2020-01-12  American Airlines                OH  Charleston/Dunbar, WV   \n",
       "3  2020-01-12  American Airlines                OH         Cincinnati, OH   \n",
       "5  2020-01-12  American Airlines                OH         Cincinnati, OH   \n",
       "\n",
       "  DEST_CITY_NAME  DEP_DELAY  CANCELLED  WEEKDAY  DAY  MONTH  \n",
       "0  Charlotte, NC       -9.0        0.0        6   12      1  \n",
       "1  Charlotte, NC       -5.0        0.0        6   12      1  \n",
       "2  Charlotte, NC       96.0        0.0        6   12      1  \n",
       "3  Charlotte, NC       -4.0        0.0        6   12      1  \n",
       "5  Charlotte, NC      -11.0        0.0        6   12      1  "
      ]
     },
     "execution_count": 72,
     "metadata": {},
     "output_type": "execute_result"
    }
   ],
   "source": [
    "df.head()"
   ]
  },
  {
   "cell_type": "code",
   "execution_count": 73,
   "metadata": {},
   "outputs": [
    {
     "data": {
      "text/html": [
       "<div>\n",
       "<style scoped>\n",
       "    .dataframe tbody tr th:only-of-type {\n",
       "        vertical-align: middle;\n",
       "    }\n",
       "\n",
       "    .dataframe tbody tr th {\n",
       "        vertical-align: top;\n",
       "    }\n",
       "\n",
       "    .dataframe thead th {\n",
       "        text-align: right;\n",
       "    }\n",
       "</style>\n",
       "<table border=\"1\" class=\"dataframe\">\n",
       "  <thead>\n",
       "    <tr style=\"text-align: right;\">\n",
       "      <th></th>\n",
       "      <th>ORIGIN_CITY_NAME</th>\n",
       "      <th>DEP_DELAY</th>\n",
       "    </tr>\n",
       "  </thead>\n",
       "  <tbody>\n",
       "    <tr>\n",
       "      <th>0</th>\n",
       "      <td>Aberdeen, SD</td>\n",
       "      <td>11.598361</td>\n",
       "    </tr>\n",
       "    <tr>\n",
       "      <th>1</th>\n",
       "      <td>Abilene, TX</td>\n",
       "      <td>5.589744</td>\n",
       "    </tr>\n",
       "    <tr>\n",
       "      <th>2</th>\n",
       "      <td>Akron, OH</td>\n",
       "      <td>-0.470085</td>\n",
       "    </tr>\n",
       "    <tr>\n",
       "      <th>3</th>\n",
       "      <td>Alamosa, CO</td>\n",
       "      <td>22.291262</td>\n",
       "    </tr>\n",
       "    <tr>\n",
       "      <th>4</th>\n",
       "      <td>Albany, GA</td>\n",
       "      <td>-0.088889</td>\n",
       "    </tr>\n",
       "    <tr>\n",
       "      <th>5</th>\n",
       "      <td>Albany, NY</td>\n",
       "      <td>3.600739</td>\n",
       "    </tr>\n",
       "    <tr>\n",
       "      <th>6</th>\n",
       "      <td>Albuquerque, NM</td>\n",
       "      <td>-0.304153</td>\n",
       "    </tr>\n",
       "    <tr>\n",
       "      <th>7</th>\n",
       "      <td>Alexandria, LA</td>\n",
       "      <td>3.315789</td>\n",
       "    </tr>\n",
       "    <tr>\n",
       "      <th>8</th>\n",
       "      <td>Allentown/Bethlehem/Easton, PA</td>\n",
       "      <td>8.457143</td>\n",
       "    </tr>\n",
       "    <tr>\n",
       "      <th>9</th>\n",
       "      <td>Alpena, MI</td>\n",
       "      <td>12.317308</td>\n",
       "    </tr>\n",
       "  </tbody>\n",
       "</table>\n",
       "</div>"
      ],
      "text/plain": [
       "                 ORIGIN_CITY_NAME  DEP_DELAY\n",
       "0                    Aberdeen, SD  11.598361\n",
       "1                     Abilene, TX   5.589744\n",
       "2                       Akron, OH  -0.470085\n",
       "3                     Alamosa, CO  22.291262\n",
       "4                      Albany, GA  -0.088889\n",
       "5                      Albany, NY   3.600739\n",
       "6                 Albuquerque, NM  -0.304153\n",
       "7                  Alexandria, LA   3.315789\n",
       "8  Allentown/Bethlehem/Easton, PA   8.457143\n",
       "9                      Alpena, MI  12.317308"
      ]
     },
     "execution_count": 73,
     "metadata": {},
     "output_type": "execute_result"
    }
   ],
   "source": [
    "test_6 = df[['ORIGIN_CITY_NAME', 'DEP_DELAY']]\n",
    "test_6 = test_6.groupby(['ORIGIN_CITY_NAME']).mean().reset_index()\n",
    "test_6.head(10)"
   ]
  },
  {
   "cell_type": "code",
   "execution_count": 74,
   "metadata": {},
   "outputs": [
    {
     "data": {
      "text/html": [
       "<div>\n",
       "<style scoped>\n",
       "    .dataframe tbody tr th:only-of-type {\n",
       "        vertical-align: middle;\n",
       "    }\n",
       "\n",
       "    .dataframe tbody tr th {\n",
       "        vertical-align: top;\n",
       "    }\n",
       "\n",
       "    .dataframe thead th {\n",
       "        text-align: right;\n",
       "    }\n",
       "</style>\n",
       "<table border=\"1\" class=\"dataframe\">\n",
       "  <thead>\n",
       "    <tr style=\"text-align: right;\">\n",
       "      <th></th>\n",
       "      <th>ORIGIN_CITY_NAME</th>\n",
       "      <th>FLIGHTS</th>\n",
       "    </tr>\n",
       "  </thead>\n",
       "  <tbody>\n",
       "    <tr>\n",
       "      <th>0</th>\n",
       "      <td>Atlanta, GA</td>\n",
       "      <td>14923</td>\n",
       "    </tr>\n",
       "    <tr>\n",
       "      <th>1</th>\n",
       "      <td>Chicago, IL</td>\n",
       "      <td>13554</td>\n",
       "    </tr>\n",
       "    <tr>\n",
       "      <th>2</th>\n",
       "      <td>Denver, CO</td>\n",
       "      <td>12731</td>\n",
       "    </tr>\n",
       "    <tr>\n",
       "      <th>3</th>\n",
       "      <td>Los Angeles, CA</td>\n",
       "      <td>11904</td>\n",
       "    </tr>\n",
       "    <tr>\n",
       "      <th>4</th>\n",
       "      <td>Dallas/Fort Worth, TX</td>\n",
       "      <td>10945</td>\n",
       "    </tr>\n",
       "    <tr>\n",
       "      <th>5</th>\n",
       "      <td>Houston, TX</td>\n",
       "      <td>9972</td>\n",
       "    </tr>\n",
       "    <tr>\n",
       "      <th>6</th>\n",
       "      <td>Orlando, FL</td>\n",
       "      <td>9295</td>\n",
       "    </tr>\n",
       "    <tr>\n",
       "      <th>7</th>\n",
       "      <td>Las Vegas, NV</td>\n",
       "      <td>9293</td>\n",
       "    </tr>\n",
       "    <tr>\n",
       "      <th>8</th>\n",
       "      <td>Phoenix, AZ</td>\n",
       "      <td>9200</td>\n",
       "    </tr>\n",
       "    <tr>\n",
       "      <th>9</th>\n",
       "      <td>New York, NY</td>\n",
       "      <td>8490</td>\n",
       "    </tr>\n",
       "    <tr>\n",
       "      <th>10</th>\n",
       "      <td>Detroit, MI</td>\n",
       "      <td>8223</td>\n",
       "    </tr>\n",
       "    <tr>\n",
       "      <th>11</th>\n",
       "      <td>Seattle, WA</td>\n",
       "      <td>7883</td>\n",
       "    </tr>\n",
       "    <tr>\n",
       "      <th>12</th>\n",
       "      <td>Charlotte, NC</td>\n",
       "      <td>7663</td>\n",
       "    </tr>\n",
       "    <tr>\n",
       "      <th>13</th>\n",
       "      <td>Fort Lauderdale, FL</td>\n",
       "      <td>7619</td>\n",
       "    </tr>\n",
       "    <tr>\n",
       "      <th>14</th>\n",
       "      <td>Salt Lake City, UT</td>\n",
       "      <td>7413</td>\n",
       "    </tr>\n",
       "    <tr>\n",
       "      <th>15</th>\n",
       "      <td>Minneapolis, MN</td>\n",
       "      <td>7319</td>\n",
       "    </tr>\n",
       "    <tr>\n",
       "      <th>16</th>\n",
       "      <td>Washington, DC</td>\n",
       "      <td>7225</td>\n",
       "    </tr>\n",
       "    <tr>\n",
       "      <th>17</th>\n",
       "      <td>San Francisco, CA</td>\n",
       "      <td>7028</td>\n",
       "    </tr>\n",
       "    <tr>\n",
       "      <th>18</th>\n",
       "      <td>Miami, FL</td>\n",
       "      <td>6364</td>\n",
       "    </tr>\n",
       "    <tr>\n",
       "      <th>19</th>\n",
       "      <td>Tampa, FL</td>\n",
       "      <td>6132</td>\n",
       "    </tr>\n",
       "    <tr>\n",
       "      <th>20</th>\n",
       "      <td>Boston, MA</td>\n",
       "      <td>5966</td>\n",
       "    </tr>\n",
       "    <tr>\n",
       "      <th>21</th>\n",
       "      <td>Nashville, TN</td>\n",
       "      <td>5822</td>\n",
       "    </tr>\n",
       "    <tr>\n",
       "      <th>22</th>\n",
       "      <td>Newark, NJ</td>\n",
       "      <td>5785</td>\n",
       "    </tr>\n",
       "    <tr>\n",
       "      <th>23</th>\n",
       "      <td>Philadelphia, PA</td>\n",
       "      <td>5219</td>\n",
       "    </tr>\n",
       "    <tr>\n",
       "      <th>24</th>\n",
       "      <td>San Diego, CA</td>\n",
       "      <td>5123</td>\n",
       "    </tr>\n",
       "    <tr>\n",
       "      <th>25</th>\n",
       "      <td>Portland, OR</td>\n",
       "      <td>5094</td>\n",
       "    </tr>\n",
       "    <tr>\n",
       "      <th>26</th>\n",
       "      <td>Baltimore, MD</td>\n",
       "      <td>4482</td>\n",
       "    </tr>\n",
       "    <tr>\n",
       "      <th>27</th>\n",
       "      <td>St. Louis, MO</td>\n",
       "      <td>4319</td>\n",
       "    </tr>\n",
       "    <tr>\n",
       "      <th>28</th>\n",
       "      <td>Austin, TX</td>\n",
       "      <td>4200</td>\n",
       "    </tr>\n",
       "    <tr>\n",
       "      <th>29</th>\n",
       "      <td>Fort Myers, FL</td>\n",
       "      <td>4169</td>\n",
       "    </tr>\n",
       "  </tbody>\n",
       "</table>\n",
       "</div>"
      ],
      "text/plain": [
       "         ORIGIN_CITY_NAME  FLIGHTS\n",
       "0             Atlanta, GA    14923\n",
       "1             Chicago, IL    13554\n",
       "2              Denver, CO    12731\n",
       "3         Los Angeles, CA    11904\n",
       "4   Dallas/Fort Worth, TX    10945\n",
       "5             Houston, TX     9972\n",
       "6             Orlando, FL     9295\n",
       "7           Las Vegas, NV     9293\n",
       "8             Phoenix, AZ     9200\n",
       "9            New York, NY     8490\n",
       "10            Detroit, MI     8223\n",
       "11            Seattle, WA     7883\n",
       "12          Charlotte, NC     7663\n",
       "13    Fort Lauderdale, FL     7619\n",
       "14     Salt Lake City, UT     7413\n",
       "15        Minneapolis, MN     7319\n",
       "16         Washington, DC     7225\n",
       "17      San Francisco, CA     7028\n",
       "18              Miami, FL     6364\n",
       "19              Tampa, FL     6132\n",
       "20             Boston, MA     5966\n",
       "21          Nashville, TN     5822\n",
       "22             Newark, NJ     5785\n",
       "23       Philadelphia, PA     5219\n",
       "24          San Diego, CA     5123\n",
       "25           Portland, OR     5094\n",
       "26          Baltimore, MD     4482\n",
       "27          St. Louis, MO     4319\n",
       "28             Austin, TX     4200\n",
       "29         Fort Myers, FL     4169"
      ]
     },
     "execution_count": 74,
     "metadata": {},
     "output_type": "execute_result"
    }
   ],
   "source": [
    "test_7 = df.ORIGIN_CITY_NAME.value_counts().rename_axis('ORIGIN_CITY_NAME').reset_index(name='FLIGHTS').iloc[0:30]\n",
    "test_7.head(30)"
   ]
  },
  {
   "cell_type": "code",
   "execution_count": 75,
   "metadata": {},
   "outputs": [
    {
     "data": {
      "text/html": [
       "<div>\n",
       "<style scoped>\n",
       "    .dataframe tbody tr th:only-of-type {\n",
       "        vertical-align: middle;\n",
       "    }\n",
       "\n",
       "    .dataframe tbody tr th {\n",
       "        vertical-align: top;\n",
       "    }\n",
       "\n",
       "    .dataframe thead th {\n",
       "        text-align: right;\n",
       "    }\n",
       "</style>\n",
       "<table border=\"1\" class=\"dataframe\">\n",
       "  <thead>\n",
       "    <tr style=\"text-align: right;\">\n",
       "      <th></th>\n",
       "      <th>ORIGIN_CITY_NAME</th>\n",
       "      <th>FLIGHTS</th>\n",
       "      <th>DEP_DELAY</th>\n",
       "    </tr>\n",
       "  </thead>\n",
       "  <tbody>\n",
       "    <tr>\n",
       "      <th>0</th>\n",
       "      <td>Atlanta, GA</td>\n",
       "      <td>14923</td>\n",
       "      <td>3.345172</td>\n",
       "    </tr>\n",
       "    <tr>\n",
       "      <th>1</th>\n",
       "      <td>Chicago, IL</td>\n",
       "      <td>13554</td>\n",
       "      <td>4.339014</td>\n",
       "    </tr>\n",
       "    <tr>\n",
       "      <th>2</th>\n",
       "      <td>Denver, CO</td>\n",
       "      <td>12731</td>\n",
       "      <td>3.019480</td>\n",
       "    </tr>\n",
       "    <tr>\n",
       "      <th>3</th>\n",
       "      <td>Los Angeles, CA</td>\n",
       "      <td>11904</td>\n",
       "      <td>0.864415</td>\n",
       "    </tr>\n",
       "    <tr>\n",
       "      <th>4</th>\n",
       "      <td>Dallas/Fort Worth, TX</td>\n",
       "      <td>10945</td>\n",
       "      <td>6.819370</td>\n",
       "    </tr>\n",
       "  </tbody>\n",
       "</table>\n",
       "</div>"
      ],
      "text/plain": [
       "        ORIGIN_CITY_NAME  FLIGHTS  DEP_DELAY\n",
       "0            Atlanta, GA    14923   3.345172\n",
       "1            Chicago, IL    13554   4.339014\n",
       "2             Denver, CO    12731   3.019480\n",
       "3        Los Angeles, CA    11904   0.864415\n",
       "4  Dallas/Fort Worth, TX    10945   6.819370"
      ]
     },
     "execution_count": 75,
     "metadata": {},
     "output_type": "execute_result"
    }
   ],
   "source": [
    "test_6_7 = pd.merge(test_7, test_6, on='ORIGIN_CITY_NAME')\n",
    "test_6_7.head()"
   ]
  },
  {
   "cell_type": "code",
   "execution_count": 76,
   "metadata": {},
   "outputs": [
    {
     "data": {
      "text/plain": [
       "(30, 3)"
      ]
     },
     "execution_count": 76,
     "metadata": {},
     "output_type": "execute_result"
    }
   ],
   "source": [
    "test_6_7.shape"
   ]
  },
  {
   "cell_type": "code",
   "execution_count": 77,
   "metadata": {},
   "outputs": [
    {
     "data": {
      "text/html": [
       "<div>\n",
       "<style scoped>\n",
       "    .dataframe tbody tr th:only-of-type {\n",
       "        vertical-align: middle;\n",
       "    }\n",
       "\n",
       "    .dataframe tbody tr th {\n",
       "        vertical-align: top;\n",
       "    }\n",
       "\n",
       "    .dataframe thead th {\n",
       "        text-align: right;\n",
       "    }\n",
       "</style>\n",
       "<table border=\"1\" class=\"dataframe\">\n",
       "  <thead>\n",
       "    <tr style=\"text-align: right;\">\n",
       "      <th></th>\n",
       "      <th>FLIGHTS</th>\n",
       "      <th>DEP_DELAY</th>\n",
       "    </tr>\n",
       "  </thead>\n",
       "  <tbody>\n",
       "    <tr>\n",
       "      <th>count</th>\n",
       "      <td>30.000000</td>\n",
       "      <td>30.000000</td>\n",
       "    </tr>\n",
       "    <tr>\n",
       "      <th>mean</th>\n",
       "      <td>7778.500000</td>\n",
       "      <td>2.298452</td>\n",
       "    </tr>\n",
       "    <tr>\n",
       "      <th>std</th>\n",
       "      <td>2844.503359</td>\n",
       "      <td>2.143357</td>\n",
       "    </tr>\n",
       "    <tr>\n",
       "      <th>min</th>\n",
       "      <td>4169.000000</td>\n",
       "      <td>-2.793871</td>\n",
       "    </tr>\n",
       "    <tr>\n",
       "      <th>25%</th>\n",
       "      <td>5794.250000</td>\n",
       "      <td>1.017237</td>\n",
       "    </tr>\n",
       "    <tr>\n",
       "      <th>50%</th>\n",
       "      <td>7366.000000</td>\n",
       "      <td>2.766186</td>\n",
       "    </tr>\n",
       "    <tr>\n",
       "      <th>75%</th>\n",
       "      <td>9269.750000</td>\n",
       "      <td>3.625147</td>\n",
       "    </tr>\n",
       "    <tr>\n",
       "      <th>max</th>\n",
       "      <td>14923.000000</td>\n",
       "      <td>6.819370</td>\n",
       "    </tr>\n",
       "  </tbody>\n",
       "</table>\n",
       "</div>"
      ],
      "text/plain": [
       "            FLIGHTS  DEP_DELAY\n",
       "count     30.000000  30.000000\n",
       "mean    7778.500000   2.298452\n",
       "std     2844.503359   2.143357\n",
       "min     4169.000000  -2.793871\n",
       "25%     5794.250000   1.017237\n",
       "50%     7366.000000   2.766186\n",
       "75%     9269.750000   3.625147\n",
       "max    14923.000000   6.819370"
      ]
     },
     "execution_count": 77,
     "metadata": {},
     "output_type": "execute_result"
    }
   ],
   "source": [
    "test_6_7.describe()"
   ]
  },
  {
   "cell_type": "code",
   "execution_count": 78,
   "metadata": {},
   "outputs": [
    {
     "data": {
      "image/png": "[encoded data removed]",
      "text/plain": [
       "<Figure size 1080x504 with 2 Axes>"
      ]
     },
     "metadata": {},
     "output_type": "display_data"
    }
   ],
   "source": [
    "test_6_7 = test_6_7.set_index('ORIGIN_CITY_NAME')\n",
    "\n",
    "fig = plt.figure(figsize=(15,7)) # Create matplotlib figure\n",
    "\n",
    "ax = fig.add_subplot(111) # Create matplotlib axes\n",
    "ax2 = ax.twinx() # Create another axes that shares the same x-axis\n",
    "width = .3\n",
    "\n",
    "test_6_7.FLIGHTS.plot(kind='bar',color='red',ax=ax, width=width, position=0)\n",
    "test_6_7.DEP_DELAY.plot(kind='bar',color='grey', ax=ax2, width=width, position=1)\n",
    "\n",
    "plt.hlines(y=10.345, xmin=-1, xmax=30, colors='b', linestyles='dashed', label='cutoff')\n",
    "\n",
    "#ax.grid(None, axis=1)\n",
    "ax2.grid(None)\n",
    "\n",
    "ax.set_title('MOST POPULAR DESTINATIONS WITH THE LONGEST DEPARTURE DELAYS', fontsize=18)\n",
    "ax.set_ylabel('NUMBER OF FLIGHTS', fontsize=16)\n",
    "ax2.set_ylabel('AVERAGE DEPARTURE DELAY (mins)')\n",
    "ax.set_xlabel('TOP 30 CITIES', fontsize=16)\n",
    "plt.show()"
   ]
  },
  {
   "cell_type": "markdown",
   "metadata": {},
   "source": [
    "# REPORT\n",
    "## First I done some data cleaning, analyzing every feature in the dataset, Data Engineering, Preprocessing, and Exploatary Data Analysis where we can se the report where I  show Total Number of Flights per Airline , where we can see that Delta Airlines made most flights. Also I made a graph with 20 Most Common Destination (Cities), and most popular destinations with the longest departure delays."
   ]
  },
  {
   "cell_type": "code",
   "execution_count": null,
   "metadata": {},
   "outputs": [],
   "source": []
  }
 ],
 "metadata": {
  "kernelspec": {
   "display_name": "Python 3",
   "language": "python",
   "name": "python3"
  },
  "language_info": {
   "codemirror_mode": {
    "name": "ipython",
    "version": 3
   },
   "file_extension": ".py",
   "mimetype": "text/x-python",
   "name": "python",
   "nbconvert_exporter": "python",
   "pygments_lexer": "ipython3",
   "version": "3.8.5"
  }
 },
 "nbformat": 4,
 "nbformat_minor": 4
}
